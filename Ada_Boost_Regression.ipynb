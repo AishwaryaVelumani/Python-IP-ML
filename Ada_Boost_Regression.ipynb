{
  "nbformat": 4,
  "nbformat_minor": 0,
  "metadata": {
    "colab": {
      "name": "Ada Boost Regression",
      "provenance": [],
      "collapsed_sections": [],
      "authorship_tag": "ABX9TyNZyfE6zwcvAxsZbKq4nS4q",
      "include_colab_link": true
    },
    "kernelspec": {
      "name": "python3",
      "display_name": "Python 3"
    }
  },
  "cells": [
    {
      "cell_type": "markdown",
      "metadata": {
        "id": "view-in-github",
        "colab_type": "text"
      },
      "source": [
        "<a href=\"https://colab.research.google.com/github/AishwaryaVelumani/Python-IP-ML/blob/master/Ada_Boost_Regression.ipynb\" target=\"_parent\"><img src=\"https://colab.research.google.com/assets/colab-badge.svg\" alt=\"Open In Colab\"/></a>"
      ]
    },
    {
      "cell_type": "code",
      "metadata": {
        "id": "hJZHLovytkF4",
        "colab_type": "code",
        "colab": {}
      },
      "source": [
        "import numpy as np\n",
        "import matplotlib.pyplot as plt\n",
        "from sklearn.tree import DecisionTreeRegressor\n",
        "from sklearn.ensemble import AdaBoostRegressor"
      ],
      "execution_count": 4,
      "outputs": []
    },
    {
      "cell_type": "code",
      "metadata": {
        "id": "956v7UTp218S",
        "colab_type": "code",
        "colab": {}
      },
      "source": [
        "rng= np.random.RandomState(1)\n",
        "x= np.linspace(0,6,100)[:,np.newaxis]\n",
        "y= np.sin(x).ravel()+ np.sin(6*x).ravel()+ rng.normal(0,0.1,x.shape[0])"
      ],
      "execution_count": 5,
      "outputs": []
    },
    {
      "cell_type": "code",
      "metadata": {
        "id": "7CGzsb-fDh4N",
        "colab_type": "code",
        "colab": {
          "base_uri": "https://localhost:8080/",
          "height": 35
        },
        "outputId": "5fa4833e-9081-46dc-f9cd-ac51fc54108f"
      },
      "source": [
        "print(rng)"
      ],
      "execution_count": 6,
      "outputs": [
        {
          "output_type": "stream",
          "text": [
            "RandomState(MT19937)\n"
          ],
          "name": "stdout"
        }
      ]
    },
    {
      "cell_type": "code",
      "metadata": {
        "id": "_W8Azx9v4UCJ",
        "colab_type": "code",
        "colab": {
          "base_uri": "https://localhost:8080/",
          "height": 35
        },
        "outputId": "67a70184-24ce-4679-de6c-70dccfa81bd4"
      },
      "source": [
        "print(y.shape)"
      ],
      "execution_count": 7,
      "outputs": [
        {
          "output_type": "stream",
          "text": [
            "(100,)\n"
          ],
          "name": "stdout"
        }
      ]
    },
    {
      "cell_type": "code",
      "metadata": {
        "id": "nrmPWf1R4bo9",
        "colab_type": "code",
        "colab": {
          "base_uri": "https://localhost:8080/",
          "height": 35
        },
        "outputId": "de70dad0-8e59-4005-da21-7f8bf6d54929"
      },
      "source": [
        "a=np.sin(x)\n",
        "print(a.shape)"
      ],
      "execution_count": 8,
      "outputs": [
        {
          "output_type": "stream",
          "text": [
            "(100, 1)\n"
          ],
          "name": "stdout"
        }
      ]
    },
    {
      "cell_type": "code",
      "metadata": {
        "id": "BluJNcJs4-lM",
        "colab_type": "code",
        "colab": {
          "base_uri": "https://localhost:8080/",
          "height": 35
        },
        "outputId": "270b5066-2f59-48c6-8455-f200525f31a3"
      },
      "source": [
        "b=rng.normal(0,0.1,x.shape[0])\n",
        "b.shape"
      ],
      "execution_count": 9,
      "outputs": [
        {
          "output_type": "execute_result",
          "data": {
            "text/plain": [
              "(100,)"
            ]
          },
          "metadata": {
            "tags": []
          },
          "execution_count": 9
        }
      ]
    },
    {
      "cell_type": "code",
      "metadata": {
        "id": "TQWIlBK2C2ee",
        "colab_type": "code",
        "colab": {}
      },
      "source": [
        "dtr= DecisionTreeRegressor(max_depth=4)\n",
        "abr= AdaBoostRegressor(DecisionTreeRegressor(max_depth=4),n_estimators=500,random_state=rng)"
      ],
      "execution_count": 10,
      "outputs": []
    },
    {
      "cell_type": "code",
      "metadata": {
        "id": "npwJSLmSDyPA",
        "colab_type": "code",
        "colab": {
          "base_uri": "https://localhost:8080/",
          "height": 290
        },
        "outputId": "570ad572-a4c6-45c1-bc7d-3fff6114bf42"
      },
      "source": [
        "dtr.fit(x,y)\n",
        "abr.fit(x,y)"
      ],
      "execution_count": 11,
      "outputs": [
        {
          "output_type": "execute_result",
          "data": {
            "text/plain": [
              "AdaBoostRegressor(base_estimator=DecisionTreeRegressor(ccp_alpha=0.0,\n",
              "                                                       criterion='mse',\n",
              "                                                       max_depth=4,\n",
              "                                                       max_features=None,\n",
              "                                                       max_leaf_nodes=None,\n",
              "                                                       min_impurity_decrease=0.0,\n",
              "                                                       min_impurity_split=None,\n",
              "                                                       min_samples_leaf=1,\n",
              "                                                       min_samples_split=2,\n",
              "                                                       min_weight_fraction_leaf=0.0,\n",
              "                                                       presort='deprecated',\n",
              "                                                       random_state=None,\n",
              "                                                       splitter='best'),\n",
              "                  learning_rate=1.0, loss='linear', n_estimators=500,\n",
              "                  random_state=RandomState(MT19937) at 0x7FEE29BCBEB8)"
            ]
          },
          "metadata": {
            "tags": []
          },
          "execution_count": 11
        }
      ]
    },
    {
      "cell_type": "code",
      "metadata": {
        "id": "zgAGVnAhD4Ci",
        "colab_type": "code",
        "colab": {}
      },
      "source": [
        "ypr_dtr= dtr.predict(x)\n",
        "ypr_abr= abr.predict(x)"
      ],
      "execution_count": 12,
      "outputs": []
    },
    {
      "cell_type": "code",
      "metadata": {
        "id": "EDMqJKJIEEhU",
        "colab_type": "code",
        "colab": {
          "base_uri": "https://localhost:8080/",
          "height": 35
        },
        "outputId": "02a00613-72ed-4a25-c3a5-34a5f33801cb"
      },
      "source": [
        "print(ypr_abr.shape)"
      ],
      "execution_count": 13,
      "outputs": [
        {
          "output_type": "stream",
          "text": [
            "(100,)\n"
          ],
          "name": "stdout"
        }
      ]
    },
    {
      "cell_type": "markdown",
      "metadata": {
        "id": "-gAsao38ETQr",
        "colab_type": "text"
      },
      "source": [
        "**Visualisation**"
      ]
    },
    {
      "cell_type": "code",
      "metadata": {
        "id": "8FR_oizHEHIX",
        "colab_type": "code",
        "colab": {
          "base_uri": "https://localhost:8080/",
          "height": 531
        },
        "outputId": "12ecef6a-4c74-47b4-f221-a7d4f51554a5"
      },
      "source": [
        "plt.figure(figsize=(8,8))\n",
        "plt.scatter(x,y,c='k',label='Training Samples')\n",
        "plt.plot(x,ypr_dtr,c='g',label='n_estimators=1',linewidth=2)\n",
        "plt.plot(x,ypr_abr,c='r',label='n_estimators=500',linewidth=2)\n",
        "plt.xlabel('Data')\n",
        "plt.ylabel('Target')\n",
        "plt.legend()\n",
        "plt.title('Ada Boost Regression')"
      ],
      "execution_count": 14,
      "outputs": [
        {
          "output_type": "execute_result",
          "data": {
            "text/plain": [
              "Text(0.5, 1.0, 'Ada Boost Regression')"
            ]
          },
          "metadata": {
            "tags": []
          },
          "execution_count": 14
        },
        {
          "output_type": "display_data",
          "data": {
            "image/png": "[encoded data removed]",
            "text/plain": [
              "<Figure size 576x576 with 1 Axes>"
            ]
          },
          "metadata": {
            "tags": [],
            "needs_background": "light"
          }
        }
      ]
    },
    {
      "cell_type": "code",
      "metadata": {
        "id": "_42_P8UTFRas",
        "colab_type": "code",
        "colab": {}
      },
      "source": [
        ""
      ],
      "execution_count": 14,
      "outputs": []
    }
  ]
}