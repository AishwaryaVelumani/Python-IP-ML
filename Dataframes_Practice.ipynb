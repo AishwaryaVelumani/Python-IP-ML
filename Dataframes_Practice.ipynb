{
  "nbformat": 4,
  "nbformat_minor": 0,
  "metadata": {
    "colab": {
      "name": "Dataframes Practice",
      "provenance": [],
      "collapsed_sections": []
    },
    "kernelspec": {
      "name": "python3",
      "display_name": "Python 3"
    }
  },
  "cells": [
    {
      "cell_type": "code",
      "metadata": {
        "id": "gPtDdsuodc9G",
        "colab_type": "code",
        "colab": {}
      },
      "source": [
        "import pandas as pd\n",
        "import numpy as np"
      ],
      "execution_count": null,
      "outputs": []
    },
    {
      "cell_type": "code",
      "metadata": {
        "id": "5um69cQ3elpT",
        "colab_type": "code",
        "colab": {
          "base_uri": "https://localhost:8080/",
          "height": 145
        },
        "outputId": "9fc91d97-5ec8-454e-b2d5-1831b7e6f847"
      },
      "source": [
        "a=[10,20,30,40,50]\n",
        "df=pd.DataFrame(a)\n",
        "print(df)\n",
        "type(df)"
      ],
      "execution_count": null,
      "outputs": [
        {
          "output_type": "stream",
          "text": [
            "    0\n",
            "0  10\n",
            "1  20\n",
            "2  30\n",
            "3  40\n",
            "4  50\n"
          ],
          "name": "stdout"
        },
        {
          "output_type": "execute_result",
          "data": {
            "text/plain": [
              "pandas.core.frame.DataFrame"
            ]
          },
          "metadata": {
            "tags": []
          },
          "execution_count": 3
        }
      ]
    },
    {
      "cell_type": "code",
      "metadata": {
        "id": "-97f1BokezLK",
        "colab_type": "code",
        "colab": {
          "base_uri": "https://localhost:8080/",
          "height": 90
        },
        "outputId": "b7e70e50-0444-47fc-d814-7fa0b93a6b2a"
      },
      "source": [
        "data=[['Alex',10],['Bob',11],['Clare',12]]\n",
        "df=pd.DataFrame(data,columns=['Name','Age'],dtype=float)\n",
        "print(df)"
      ],
      "execution_count": null,
      "outputs": [
        {
          "output_type": "stream",
          "text": [
            "    Name   Age\n",
            "0   Alex  10.0\n",
            "1    Bob  11.0\n",
            "2  Clare  12.0\n"
          ],
          "name": "stdout"
        }
      ]
    },
    {
      "cell_type": "code",
      "metadata": {
        "id": "OlZCS3UPfR2I",
        "colab_type": "code",
        "colab": {
          "base_uri": "https://localhost:8080/",
          "height": 108
        },
        "outputId": "9b0a6bb5-b755-40f7-bbd3-27415e9e819a"
      },
      "source": [
        "dict1={'Name':['A','B','C','D'],'Age':[10,11,12,13]}\n",
        "df=pd.DataFrame(dict1,index=['r1','r2','r3','r4'])\n",
        "print(df)"
      ],
      "execution_count": null,
      "outputs": [
        {
          "output_type": "stream",
          "text": [
            "   Name  Age\n",
            "r1    A   10\n",
            "r2    B   11\n",
            "r3    C   12\n",
            "r4    D   13\n"
          ],
          "name": "stdout"
        }
      ]
    },
    {
      "cell_type": "code",
      "metadata": {
        "id": "kQmmdKrcicDB",
        "colab_type": "code",
        "colab": {
          "base_uri": "https://localhost:8080/",
          "height": 126
        },
        "outputId": "fa6f3e99-cd29-464d-b890-a424ab9d50df"
      },
      "source": [
        "df=pd.DataFrame(np.random.randn(5,4),index='a b c d e'.split(),columns='w x y z'.split())\n",
        "print(df)"
      ],
      "execution_count": null,
      "outputs": [
        {
          "output_type": "stream",
          "text": [
            "          w         x         y         z\n",
            "a -0.668082 -0.212802  0.046788 -0.036319\n",
            "b  0.331226 -1.337109  1.612239 -0.954653\n",
            "c -0.719293  0.602573 -0.299536  0.467195\n",
            "d -0.851895  1.060755 -0.341972 -1.051396\n",
            "e  0.743925  1.077182  0.738532 -2.711601\n"
          ],
          "name": "stdout"
        }
      ]
    },
    {
      "cell_type": "code",
      "metadata": {
        "id": "8IccoloQpNTi",
        "colab_type": "code",
        "colab": {
          "base_uri": "https://localhost:8080/",
          "height": 108
        },
        "outputId": "cbd04e95-e300-4f47-b818-43567f6825a7"
      },
      "source": [
        "dict={'Name':np.array(['ram','sita','gita','ron']),'Age':[10,11,12,13]}\n",
        "df=pd.DataFrame(dict)\n",
        "print(df)"
      ],
      "execution_count": null,
      "outputs": [
        {
          "output_type": "stream",
          "text": [
            "   Name  Age\n",
            "0   ram   10\n",
            "1  sita   11\n",
            "2  gita   12\n",
            "3   ron   13\n"
          ],
          "name": "stdout"
        }
      ]
    },
    {
      "cell_type": "code",
      "metadata": {
        "id": "m9AG9Nb8lGPM",
        "colab_type": "code",
        "colab": {
          "base_uri": "https://localhost:8080/",
          "height": 163
        },
        "outputId": "abed7811-7a97-485d-f5e2-4397a69e92e2"
      },
      "source": [
        "s1=pd.Series([1,2,3],index=['a','b','c'])\n",
        "print(s1)\n",
        "df1=pd.DataFrame([1,2,3],index=['a','b','c'])\n",
        "print(df1)"
      ],
      "execution_count": null,
      "outputs": [
        {
          "output_type": "stream",
          "text": [
            "a    1\n",
            "b    2\n",
            "c    3\n",
            "dtype: int64\n",
            "   0\n",
            "a  1\n",
            "b  2\n",
            "c  3\n"
          ],
          "name": "stdout"
        }
      ]
    },
    {
      "cell_type": "code",
      "metadata": {
        "id": "LD1Qp8FwmGlK",
        "colab_type": "code",
        "colab": {
          "base_uri": "https://localhost:8080/",
          "height": 145
        },
        "outputId": "3299af60-a128-499d-ce73-e34c05c18eec"
      },
      "source": [
        "di1={'10':pd.Series([1,2,3],index=['a','b','c']),'20':pd.Series([5,6,7],index=['d','e','f'])}\n",
        "df1=pd.DataFrame(di1)\n",
        "print(df1)"
      ],
      "execution_count": null,
      "outputs": [
        {
          "output_type": "stream",
          "text": [
            "    10   20\n",
            "a  1.0  NaN\n",
            "b  2.0  NaN\n",
            "c  3.0  NaN\n",
            "d  NaN  5.0\n",
            "e  NaN  6.0\n",
            "f  NaN  7.0\n"
          ],
          "name": "stdout"
        }
      ]
    },
    {
      "cell_type": "code",
      "metadata": {
        "id": "gSnDjC_MnUPf",
        "colab_type": "code",
        "colab": {
          "base_uri": "https://localhost:8080/",
          "height": 126
        },
        "outputId": "88a5d2ef-d501-4bb7-ca4a-11cea166fdbd"
      },
      "source": [
        "df=pd.DataFrame(np.random.randn(5,4),index='a b c d e'.split(),columns='w x y z'.split())\n",
        "print(df)"
      ],
      "execution_count": null,
      "outputs": [
        {
          "output_type": "stream",
          "text": [
            "          w         x         y         z\n",
            "a -0.699078 -1.183739 -0.603630 -0.464208\n",
            "b -0.134512 -0.715176  0.445498 -0.950023\n",
            "c  0.250626  0.029370 -2.629197  0.361215\n",
            "d -0.876252 -0.278348  0.355450 -1.067322\n",
            "e -0.425505  1.739650 -0.586495  0.023511\n"
          ],
          "name": "stdout"
        }
      ]
    },
    {
      "cell_type": "code",
      "metadata": {
        "id": "LwG0Y4ABpo92",
        "colab_type": "code",
        "colab": {
          "base_uri": "https://localhost:8080/",
          "height": 126
        },
        "outputId": "791e150f-0899-4183-827b-08d4fd929a41"
      },
      "source": [
        "df['v']=df['w']+df['z']\n",
        "print(df)"
      ],
      "execution_count": null,
      "outputs": [
        {
          "output_type": "stream",
          "text": [
            "          w         x         y         z         v\n",
            "a -0.351637 -0.102531 -1.505353  0.629711  0.278074\n",
            "b -0.954611 -0.969891 -1.048536 -0.883269 -1.837880\n",
            "c  2.003618  0.495927  0.150203  0.589139  2.592757\n",
            "d -1.598975 -0.563858 -2.359379  1.551905 -0.047070\n",
            "e  0.193418 -0.140148  1.438398 -1.054585 -0.861167\n"
          ],
          "name": "stdout"
        }
      ]
    },
    {
      "cell_type": "code",
      "metadata": {
        "id": "KXngcQwUp3r_",
        "colab_type": "code",
        "colab": {}
      },
      "source": [
        "df['f']=[1,2,3,4,5]"
      ],
      "execution_count": null,
      "outputs": []
    },
    {
      "cell_type": "code",
      "metadata": {
        "id": "LR7X6LHrqC0J",
        "colab_type": "code",
        "colab": {
          "base_uri": "https://localhost:8080/",
          "height": 126
        },
        "outputId": "f204dda9-3962-45fc-e890-7717c079ee2b"
      },
      "source": [
        "print(df)"
      ],
      "execution_count": null,
      "outputs": [
        {
          "output_type": "stream",
          "text": [
            "          w         x         y         z         v  f\n",
            "a -0.161729 -0.982136  0.858070  0.160842 -0.000887  1\n",
            "b  0.228835 -2.410104 -0.111409  1.296534  1.525369  2\n",
            "c  0.144357 -1.299919  0.010461 -1.169233 -1.024876  3\n",
            "d  0.748880 -0.184493  0.675844  0.709750  1.458630  4\n",
            "e -0.346574  0.286253  0.037739 -1.578659 -1.925234  5\n"
          ],
          "name": "stdout"
        }
      ]
    },
    {
      "cell_type": "code",
      "metadata": {
        "id": "jLAsIoDUqEGB",
        "colab_type": "code",
        "colab": {
          "base_uri": "https://localhost:8080/",
          "height": 198
        },
        "outputId": "8381245e-94c4-4b73-b966-58b209d377a1"
      },
      "source": [
        "df.drop('f',axis=1,inplace=True)\n",
        "df"
      ],
      "execution_count": null,
      "outputs": [
        {
          "output_type": "execute_result",
          "data": {
            "text/html": [
              "<div>\n",
              "<style scoped>\n",
              "    .dataframe tbody tr th:only-of-type {\n",
              "        vertical-align: middle;\n",
              "    }\n",
              "\n",
              "    .dataframe tbody tr th {\n",
              "        vertical-align: top;\n",
              "    }\n",
              "\n",
              "    .dataframe thead th {\n",
              "        text-align: right;\n",
              "    }\n",
              "</style>\n",
              "<table border=\"1\" class=\"dataframe\">\n",
              "  <thead>\n",
              "    <tr style=\"text-align: right;\">\n",
              "      <th></th>\n",
              "      <th>w</th>\n",
              "      <th>x</th>\n",
              "      <th>y</th>\n",
              "      <th>z</th>\n",
              "      <th>v</th>\n",
              "    </tr>\n",
              "  </thead>\n",
              "  <tbody>\n",
              "    <tr>\n",
              "      <th>a</th>\n",
              "      <td>-0.351637</td>\n",
              "      <td>-0.102531</td>\n",
              "      <td>-1.505353</td>\n",
              "      <td>0.629711</td>\n",
              "      <td>0.278074</td>\n",
              "    </tr>\n",
              "    <tr>\n",
              "      <th>b</th>\n",
              "      <td>-0.954611</td>\n",
              "      <td>-0.969891</td>\n",
              "      <td>-1.048536</td>\n",
              "      <td>-0.883269</td>\n",
              "      <td>-1.837880</td>\n",
              "    </tr>\n",
              "    <tr>\n",
              "      <th>c</th>\n",
              "      <td>2.003618</td>\n",
              "      <td>0.495927</td>\n",
              "      <td>0.150203</td>\n",
              "      <td>0.589139</td>\n",
              "      <td>2.592757</td>\n",
              "    </tr>\n",
              "    <tr>\n",
              "      <th>d</th>\n",
              "      <td>-1.598975</td>\n",
              "      <td>-0.563858</td>\n",
              "      <td>-2.359379</td>\n",
              "      <td>1.551905</td>\n",
              "      <td>-0.047070</td>\n",
              "    </tr>\n",
              "    <tr>\n",
              "      <th>e</th>\n",
              "      <td>0.193418</td>\n",
              "      <td>-0.140148</td>\n",
              "      <td>1.438398</td>\n",
              "      <td>-1.054585</td>\n",
              "      <td>-0.861167</td>\n",
              "    </tr>\n",
              "  </tbody>\n",
              "</table>\n",
              "</div>"
            ],
            "text/plain": [
              "          w         x         y         z         v\n",
              "a -0.351637 -0.102531 -1.505353  0.629711  0.278074\n",
              "b -0.954611 -0.969891 -1.048536 -0.883269 -1.837880\n",
              "c  2.003618  0.495927  0.150203  0.589139  2.592757\n",
              "d -1.598975 -0.563858 -2.359379  1.551905 -0.047070\n",
              "e  0.193418 -0.140148  1.438398 -1.054585 -0.861167"
            ]
          },
          "metadata": {
            "tags": []
          },
          "execution_count": 5
        }
      ]
    },
    {
      "cell_type": "code",
      "metadata": {
        "id": "t_HSJrhNqOHX",
        "colab_type": "code",
        "colab": {
          "base_uri": "https://localhost:8080/",
          "height": 168
        },
        "outputId": "8834535f-e44a-4eb8-98d4-3364d0f60c39"
      },
      "source": [
        "df.drop('c',axis=0,inplace=True)\n",
        "df"
      ],
      "execution_count": null,
      "outputs": [
        {
          "output_type": "execute_result",
          "data": {
            "text/html": [
              "<div>\n",
              "<style scoped>\n",
              "    .dataframe tbody tr th:only-of-type {\n",
              "        vertical-align: middle;\n",
              "    }\n",
              "\n",
              "    .dataframe tbody tr th {\n",
              "        vertical-align: top;\n",
              "    }\n",
              "\n",
              "    .dataframe thead th {\n",
              "        text-align: right;\n",
              "    }\n",
              "</style>\n",
              "<table border=\"1\" class=\"dataframe\">\n",
              "  <thead>\n",
              "    <tr style=\"text-align: right;\">\n",
              "      <th></th>\n",
              "      <th>w</th>\n",
              "      <th>x</th>\n",
              "      <th>y</th>\n",
              "      <th>z</th>\n",
              "      <th>v</th>\n",
              "    </tr>\n",
              "  </thead>\n",
              "  <tbody>\n",
              "    <tr>\n",
              "      <th>a</th>\n",
              "      <td>-0.161729</td>\n",
              "      <td>-0.982136</td>\n",
              "      <td>0.858070</td>\n",
              "      <td>0.160842</td>\n",
              "      <td>-0.000887</td>\n",
              "    </tr>\n",
              "    <tr>\n",
              "      <th>b</th>\n",
              "      <td>0.228835</td>\n",
              "      <td>-2.410104</td>\n",
              "      <td>-0.111409</td>\n",
              "      <td>1.296534</td>\n",
              "      <td>1.525369</td>\n",
              "    </tr>\n",
              "    <tr>\n",
              "      <th>d</th>\n",
              "      <td>0.748880</td>\n",
              "      <td>-0.184493</td>\n",
              "      <td>0.675844</td>\n",
              "      <td>0.709750</td>\n",
              "      <td>1.458630</td>\n",
              "    </tr>\n",
              "    <tr>\n",
              "      <th>e</th>\n",
              "      <td>-0.346574</td>\n",
              "      <td>0.286253</td>\n",
              "      <td>0.037739</td>\n",
              "      <td>-1.578659</td>\n",
              "      <td>-1.925234</td>\n",
              "    </tr>\n",
              "  </tbody>\n",
              "</table>\n",
              "</div>"
            ],
            "text/plain": [
              "          w         x         y         z         v\n",
              "a -0.161729 -0.982136  0.858070  0.160842 -0.000887\n",
              "b  0.228835 -2.410104 -0.111409  1.296534  1.525369\n",
              "d  0.748880 -0.184493  0.675844  0.709750  1.458630\n",
              "e -0.346574  0.286253  0.037739 -1.578659 -1.925234"
            ]
          },
          "metadata": {
            "tags": []
          },
          "execution_count": 10
        }
      ]
    },
    {
      "cell_type": "code",
      "metadata": {
        "id": "k2BNTQv1qZBg",
        "colab_type": "code",
        "colab": {
          "base_uri": "https://localhost:8080/",
          "height": 126
        },
        "outputId": "012669ed-9829-473c-834f-e2a288645f1f"
      },
      "source": [
        "df.loc['a']"
      ],
      "execution_count": null,
      "outputs": [
        {
          "output_type": "execute_result",
          "data": {
            "text/plain": [
              "w   -0.351637\n",
              "x   -0.102531\n",
              "y   -1.505353\n",
              "z    0.629711\n",
              "v    0.278074\n",
              "Name: a, dtype: float64"
            ]
          },
          "metadata": {
            "tags": []
          },
          "execution_count": 8
        }
      ]
    },
    {
      "cell_type": "code",
      "metadata": {
        "id": "QluEZsoBB-o9",
        "colab_type": "code",
        "colab": {
          "base_uri": "https://localhost:8080/",
          "height": 198
        },
        "outputId": "2a3bec8a-99c9-40fb-df61-c51af4f1d599"
      },
      "source": [
        "df"
      ],
      "execution_count": null,
      "outputs": [
        {
          "output_type": "execute_result",
          "data": {
            "text/html": [
              "<div>\n",
              "<style scoped>\n",
              "    .dataframe tbody tr th:only-of-type {\n",
              "        vertical-align: middle;\n",
              "    }\n",
              "\n",
              "    .dataframe tbody tr th {\n",
              "        vertical-align: top;\n",
              "    }\n",
              "\n",
              "    .dataframe thead th {\n",
              "        text-align: right;\n",
              "    }\n",
              "</style>\n",
              "<table border=\"1\" class=\"dataframe\">\n",
              "  <thead>\n",
              "    <tr style=\"text-align: right;\">\n",
              "      <th></th>\n",
              "      <th>w</th>\n",
              "      <th>x</th>\n",
              "      <th>y</th>\n",
              "      <th>z</th>\n",
              "      <th>v</th>\n",
              "    </tr>\n",
              "  </thead>\n",
              "  <tbody>\n",
              "    <tr>\n",
              "      <th>a</th>\n",
              "      <td>-0.351637</td>\n",
              "      <td>-0.102531</td>\n",
              "      <td>-1.505353</td>\n",
              "      <td>0.629711</td>\n",
              "      <td>0.278074</td>\n",
              "    </tr>\n",
              "    <tr>\n",
              "      <th>b</th>\n",
              "      <td>-0.954611</td>\n",
              "      <td>-0.969891</td>\n",
              "      <td>-1.048536</td>\n",
              "      <td>-0.883269</td>\n",
              "      <td>-1.837880</td>\n",
              "    </tr>\n",
              "    <tr>\n",
              "      <th>c</th>\n",
              "      <td>2.003618</td>\n",
              "      <td>0.495927</td>\n",
              "      <td>0.150203</td>\n",
              "      <td>0.589139</td>\n",
              "      <td>2.592757</td>\n",
              "    </tr>\n",
              "    <tr>\n",
              "      <th>d</th>\n",
              "      <td>-1.598975</td>\n",
              "      <td>-0.563858</td>\n",
              "      <td>-2.359379</td>\n",
              "      <td>1.551905</td>\n",
              "      <td>-0.047070</td>\n",
              "    </tr>\n",
              "    <tr>\n",
              "      <th>e</th>\n",
              "      <td>0.193418</td>\n",
              "      <td>-0.140148</td>\n",
              "      <td>1.438398</td>\n",
              "      <td>-1.054585</td>\n",
              "      <td>-0.861167</td>\n",
              "    </tr>\n",
              "  </tbody>\n",
              "</table>\n",
              "</div>"
            ],
            "text/plain": [
              "          w         x         y         z         v\n",
              "a -0.351637 -0.102531 -1.505353  0.629711  0.278074\n",
              "b -0.954611 -0.969891 -1.048536 -0.883269 -1.837880\n",
              "c  2.003618  0.495927  0.150203  0.589139  2.592757\n",
              "d -1.598975 -0.563858 -2.359379  1.551905 -0.047070\n",
              "e  0.193418 -0.140148  1.438398 -1.054585 -0.861167"
            ]
          },
          "metadata": {
            "tags": []
          },
          "execution_count": 9
        }
      ]
    },
    {
      "cell_type": "code",
      "metadata": {
        "id": "4PYQjb6XCMc7",
        "colab_type": "code",
        "colab": {
          "base_uri": "https://localhost:8080/",
          "height": 126
        },
        "outputId": "4236d32a-5253-49a3-dab1-b3d935a9cf00"
      },
      "source": [
        "df.iloc[1]"
      ],
      "execution_count": null,
      "outputs": [
        {
          "output_type": "execute_result",
          "data": {
            "text/plain": [
              "w   -0.954611\n",
              "x   -0.969891\n",
              "y   -1.048536\n",
              "z   -0.883269\n",
              "v   -1.837880\n",
              "Name: b, dtype: float64"
            ]
          },
          "metadata": {
            "tags": []
          },
          "execution_count": 10
        }
      ]
    },
    {
      "cell_type": "code",
      "metadata": {
        "id": "H_Xm1uM7CSJk",
        "colab_type": "code",
        "colab": {
          "base_uri": "https://localhost:8080/",
          "height": 35
        },
        "outputId": "94d53ca1-4897-4d52-ee4d-8e27bc21823e"
      },
      "source": [
        "df.loc['b']['y']"
      ],
      "execution_count": null,
      "outputs": [
        {
          "output_type": "execute_result",
          "data": {
            "text/plain": [
              "-1.0485362235671414"
            ]
          },
          "metadata": {
            "tags": []
          },
          "execution_count": 12
        }
      ]
    },
    {
      "cell_type": "code",
      "metadata": {
        "id": "GB0b8UnUCp3v",
        "colab_type": "code",
        "colab": {
          "base_uri": "https://localhost:8080/",
          "height": 108
        },
        "outputId": "9fbcd44b-7551-47dd-f64f-05c3faf718c8"
      },
      "source": [
        "df.loc[['a','b'],['x','y']]"
      ],
      "execution_count": null,
      "outputs": [
        {
          "output_type": "execute_result",
          "data": {
            "text/html": [
              "<div>\n",
              "<style scoped>\n",
              "    .dataframe tbody tr th:only-of-type {\n",
              "        vertical-align: middle;\n",
              "    }\n",
              "\n",
              "    .dataframe tbody tr th {\n",
              "        vertical-align: top;\n",
              "    }\n",
              "\n",
              "    .dataframe thead th {\n",
              "        text-align: right;\n",
              "    }\n",
              "</style>\n",
              "<table border=\"1\" class=\"dataframe\">\n",
              "  <thead>\n",
              "    <tr style=\"text-align: right;\">\n",
              "      <th></th>\n",
              "      <th>x</th>\n",
              "      <th>y</th>\n",
              "    </tr>\n",
              "  </thead>\n",
              "  <tbody>\n",
              "    <tr>\n",
              "      <th>a</th>\n",
              "      <td>-0.102531</td>\n",
              "      <td>-1.505353</td>\n",
              "    </tr>\n",
              "    <tr>\n",
              "      <th>b</th>\n",
              "      <td>-0.969891</td>\n",
              "      <td>-1.048536</td>\n",
              "    </tr>\n",
              "  </tbody>\n",
              "</table>\n",
              "</div>"
            ],
            "text/plain": [
              "          x         y\n",
              "a -0.102531 -1.505353\n",
              "b -0.969891 -1.048536"
            ]
          },
          "metadata": {
            "tags": []
          },
          "execution_count": 15
        }
      ]
    },
    {
      "cell_type": "code",
      "metadata": {
        "id": "iBJEnJluC3lV",
        "colab_type": "code",
        "colab": {
          "base_uri": "https://localhost:8080/",
          "height": 198
        },
        "outputId": "41aa9d9c-b1f3-41b0-aaea-8a397d5fbdf4"
      },
      "source": [
        "df"
      ],
      "execution_count": null,
      "outputs": [
        {
          "output_type": "execute_result",
          "data": {
            "text/html": [
              "<div>\n",
              "<style scoped>\n",
              "    .dataframe tbody tr th:only-of-type {\n",
              "        vertical-align: middle;\n",
              "    }\n",
              "\n",
              "    .dataframe tbody tr th {\n",
              "        vertical-align: top;\n",
              "    }\n",
              "\n",
              "    .dataframe thead th {\n",
              "        text-align: right;\n",
              "    }\n",
              "</style>\n",
              "<table border=\"1\" class=\"dataframe\">\n",
              "  <thead>\n",
              "    <tr style=\"text-align: right;\">\n",
              "      <th></th>\n",
              "      <th>w</th>\n",
              "      <th>x</th>\n",
              "      <th>y</th>\n",
              "      <th>z</th>\n",
              "    </tr>\n",
              "  </thead>\n",
              "  <tbody>\n",
              "    <tr>\n",
              "      <th>a</th>\n",
              "      <td>-0.699078</td>\n",
              "      <td>-1.183739</td>\n",
              "      <td>-0.603630</td>\n",
              "      <td>-0.464208</td>\n",
              "    </tr>\n",
              "    <tr>\n",
              "      <th>b</th>\n",
              "      <td>-0.134512</td>\n",
              "      <td>-0.715176</td>\n",
              "      <td>0.445498</td>\n",
              "      <td>-0.950023</td>\n",
              "    </tr>\n",
              "    <tr>\n",
              "      <th>c</th>\n",
              "      <td>0.250626</td>\n",
              "      <td>0.029370</td>\n",
              "      <td>-2.629197</td>\n",
              "      <td>0.361215</td>\n",
              "    </tr>\n",
              "    <tr>\n",
              "      <th>d</th>\n",
              "      <td>-0.876252</td>\n",
              "      <td>-0.278348</td>\n",
              "      <td>0.355450</td>\n",
              "      <td>-1.067322</td>\n",
              "    </tr>\n",
              "    <tr>\n",
              "      <th>e</th>\n",
              "      <td>-0.425505</td>\n",
              "      <td>1.739650</td>\n",
              "      <td>-0.586495</td>\n",
              "      <td>0.023511</td>\n",
              "    </tr>\n",
              "  </tbody>\n",
              "</table>\n",
              "</div>"
            ],
            "text/plain": [
              "          w         x         y         z\n",
              "a -0.699078 -1.183739 -0.603630 -0.464208\n",
              "b -0.134512 -0.715176  0.445498 -0.950023\n",
              "c  0.250626  0.029370 -2.629197  0.361215\n",
              "d -0.876252 -0.278348  0.355450 -1.067322\n",
              "e -0.425505  1.739650 -0.586495  0.023511"
            ]
          },
          "metadata": {
            "tags": []
          },
          "execution_count": 3
        }
      ]
    },
    {
      "cell_type": "code",
      "metadata": {
        "id": "yR-OOyD4JaeR",
        "colab_type": "code",
        "colab": {
          "base_uri": "https://localhost:8080/",
          "height": 198
        },
        "outputId": "96449996-c3f2-4cd9-c64a-37932f1acdea"
      },
      "source": [
        "df>0"
      ],
      "execution_count": null,
      "outputs": [
        {
          "output_type": "execute_result",
          "data": {
            "text/html": [
              "<div>\n",
              "<style scoped>\n",
              "    .dataframe tbody tr th:only-of-type {\n",
              "        vertical-align: middle;\n",
              "    }\n",
              "\n",
              "    .dataframe tbody tr th {\n",
              "        vertical-align: top;\n",
              "    }\n",
              "\n",
              "    .dataframe thead th {\n",
              "        text-align: right;\n",
              "    }\n",
              "</style>\n",
              "<table border=\"1\" class=\"dataframe\">\n",
              "  <thead>\n",
              "    <tr style=\"text-align: right;\">\n",
              "      <th></th>\n",
              "      <th>w</th>\n",
              "      <th>x</th>\n",
              "      <th>y</th>\n",
              "      <th>z</th>\n",
              "    </tr>\n",
              "  </thead>\n",
              "  <tbody>\n",
              "    <tr>\n",
              "      <th>a</th>\n",
              "      <td>False</td>\n",
              "      <td>False</td>\n",
              "      <td>False</td>\n",
              "      <td>False</td>\n",
              "    </tr>\n",
              "    <tr>\n",
              "      <th>b</th>\n",
              "      <td>False</td>\n",
              "      <td>False</td>\n",
              "      <td>True</td>\n",
              "      <td>False</td>\n",
              "    </tr>\n",
              "    <tr>\n",
              "      <th>c</th>\n",
              "      <td>True</td>\n",
              "      <td>True</td>\n",
              "      <td>False</td>\n",
              "      <td>True</td>\n",
              "    </tr>\n",
              "    <tr>\n",
              "      <th>d</th>\n",
              "      <td>False</td>\n",
              "      <td>False</td>\n",
              "      <td>True</td>\n",
              "      <td>False</td>\n",
              "    </tr>\n",
              "    <tr>\n",
              "      <th>e</th>\n",
              "      <td>False</td>\n",
              "      <td>True</td>\n",
              "      <td>False</td>\n",
              "      <td>True</td>\n",
              "    </tr>\n",
              "  </tbody>\n",
              "</table>\n",
              "</div>"
            ],
            "text/plain": [
              "       w      x      y      z\n",
              "a  False  False  False  False\n",
              "b  False  False   True  False\n",
              "c   True   True  False   True\n",
              "d  False  False   True  False\n",
              "e  False   True  False   True"
            ]
          },
          "metadata": {
            "tags": []
          },
          "execution_count": 4
        }
      ]
    },
    {
      "cell_type": "code",
      "metadata": {
        "id": "_312KbFiJdPd",
        "colab_type": "code",
        "colab": {
          "base_uri": "https://localhost:8080/",
          "height": 198
        },
        "outputId": "b3fc9b6f-59dd-48a3-96d8-b558efeb5c96"
      },
      "source": [
        "df[df>0]"
      ],
      "execution_count": null,
      "outputs": [
        {
          "output_type": "execute_result",
          "data": {
            "text/html": [
              "<div>\n",
              "<style scoped>\n",
              "    .dataframe tbody tr th:only-of-type {\n",
              "        vertical-align: middle;\n",
              "    }\n",
              "\n",
              "    .dataframe tbody tr th {\n",
              "        vertical-align: top;\n",
              "    }\n",
              "\n",
              "    .dataframe thead th {\n",
              "        text-align: right;\n",
              "    }\n",
              "</style>\n",
              "<table border=\"1\" class=\"dataframe\">\n",
              "  <thead>\n",
              "    <tr style=\"text-align: right;\">\n",
              "      <th></th>\n",
              "      <th>w</th>\n",
              "      <th>x</th>\n",
              "      <th>y</th>\n",
              "      <th>z</th>\n",
              "    </tr>\n",
              "  </thead>\n",
              "  <tbody>\n",
              "    <tr>\n",
              "      <th>a</th>\n",
              "      <td>NaN</td>\n",
              "      <td>NaN</td>\n",
              "      <td>NaN</td>\n",
              "      <td>NaN</td>\n",
              "    </tr>\n",
              "    <tr>\n",
              "      <th>b</th>\n",
              "      <td>NaN</td>\n",
              "      <td>NaN</td>\n",
              "      <td>0.445498</td>\n",
              "      <td>NaN</td>\n",
              "    </tr>\n",
              "    <tr>\n",
              "      <th>c</th>\n",
              "      <td>0.250626</td>\n",
              "      <td>0.02937</td>\n",
              "      <td>NaN</td>\n",
              "      <td>0.361215</td>\n",
              "    </tr>\n",
              "    <tr>\n",
              "      <th>d</th>\n",
              "      <td>NaN</td>\n",
              "      <td>NaN</td>\n",
              "      <td>0.355450</td>\n",
              "      <td>NaN</td>\n",
              "    </tr>\n",
              "    <tr>\n",
              "      <th>e</th>\n",
              "      <td>NaN</td>\n",
              "      <td>1.73965</td>\n",
              "      <td>NaN</td>\n",
              "      <td>0.023511</td>\n",
              "    </tr>\n",
              "  </tbody>\n",
              "</table>\n",
              "</div>"
            ],
            "text/plain": [
              "          w        x         y         z\n",
              "a       NaN      NaN       NaN       NaN\n",
              "b       NaN      NaN  0.445498       NaN\n",
              "c  0.250626  0.02937       NaN  0.361215\n",
              "d       NaN      NaN  0.355450       NaN\n",
              "e       NaN  1.73965       NaN  0.023511"
            ]
          },
          "metadata": {
            "tags": []
          },
          "execution_count": 5
        }
      ]
    },
    {
      "cell_type": "code",
      "metadata": {
        "id": "ngjEDXzeJfw3",
        "colab_type": "code",
        "colab": {
          "base_uri": "https://localhost:8080/",
          "height": 78
        },
        "outputId": "0cb946a7-d5bf-4220-dc37-81f7be544c9c"
      },
      "source": [
        "df[df['w']>0]"
      ],
      "execution_count": null,
      "outputs": [
        {
          "output_type": "execute_result",
          "data": {
            "text/html": [
              "<div>\n",
              "<style scoped>\n",
              "    .dataframe tbody tr th:only-of-type {\n",
              "        vertical-align: middle;\n",
              "    }\n",
              "\n",
              "    .dataframe tbody tr th {\n",
              "        vertical-align: top;\n",
              "    }\n",
              "\n",
              "    .dataframe thead th {\n",
              "        text-align: right;\n",
              "    }\n",
              "</style>\n",
              "<table border=\"1\" class=\"dataframe\">\n",
              "  <thead>\n",
              "    <tr style=\"text-align: right;\">\n",
              "      <th></th>\n",
              "      <th>w</th>\n",
              "      <th>x</th>\n",
              "      <th>y</th>\n",
              "      <th>z</th>\n",
              "    </tr>\n",
              "  </thead>\n",
              "  <tbody>\n",
              "    <tr>\n",
              "      <th>c</th>\n",
              "      <td>0.250626</td>\n",
              "      <td>0.02937</td>\n",
              "      <td>-2.629197</td>\n",
              "      <td>0.361215</td>\n",
              "    </tr>\n",
              "  </tbody>\n",
              "</table>\n",
              "</div>"
            ],
            "text/plain": [
              "          w        x         y         z\n",
              "c  0.250626  0.02937 -2.629197  0.361215"
            ]
          },
          "metadata": {
            "tags": []
          },
          "execution_count": 6
        }
      ]
    },
    {
      "cell_type": "code",
      "metadata": {
        "id": "wz4iFb-jJn7S",
        "colab_type": "code",
        "colab": {
          "base_uri": "https://localhost:8080/",
          "height": 72
        },
        "outputId": "28d3dc83-fbcb-44a5-8403-123982e520fa"
      },
      "source": [
        "df[df['x']>0]['z']"
      ],
      "execution_count": null,
      "outputs": [
        {
          "output_type": "execute_result",
          "data": {
            "text/plain": [
              "c    0.361215\n",
              "e    0.023511\n",
              "Name: z, dtype: float64"
            ]
          },
          "metadata": {
            "tags": []
          },
          "execution_count": 8
        }
      ]
    },
    {
      "cell_type": "code",
      "metadata": {
        "id": "mOD6rtymJ2vG",
        "colab_type": "code",
        "colab": {
          "base_uri": "https://localhost:8080/",
          "height": 108
        },
        "outputId": "472346fa-afc0-4ade-ea14-19f9856fd549"
      },
      "source": [
        "df[df['y']>0][['x','z']]"
      ],
      "execution_count": null,
      "outputs": [
        {
          "output_type": "execute_result",
          "data": {
            "text/html": [
              "<div>\n",
              "<style scoped>\n",
              "    .dataframe tbody tr th:only-of-type {\n",
              "        vertical-align: middle;\n",
              "    }\n",
              "\n",
              "    .dataframe tbody tr th {\n",
              "        vertical-align: top;\n",
              "    }\n",
              "\n",
              "    .dataframe thead th {\n",
              "        text-align: right;\n",
              "    }\n",
              "</style>\n",
              "<table border=\"1\" class=\"dataframe\">\n",
              "  <thead>\n",
              "    <tr style=\"text-align: right;\">\n",
              "      <th></th>\n",
              "      <th>x</th>\n",
              "      <th>z</th>\n",
              "    </tr>\n",
              "  </thead>\n",
              "  <tbody>\n",
              "    <tr>\n",
              "      <th>b</th>\n",
              "      <td>-0.715176</td>\n",
              "      <td>-0.950023</td>\n",
              "    </tr>\n",
              "    <tr>\n",
              "      <th>d</th>\n",
              "      <td>-0.278348</td>\n",
              "      <td>-1.067322</td>\n",
              "    </tr>\n",
              "  </tbody>\n",
              "</table>\n",
              "</div>"
            ],
            "text/plain": [
              "          x         z\n",
              "b -0.715176 -0.950023\n",
              "d -0.278348 -1.067322"
            ]
          },
          "metadata": {
            "tags": []
          },
          "execution_count": 9
        }
      ]
    },
    {
      "cell_type": "code",
      "metadata": {
        "id": "lxnTlReLKQPI",
        "colab_type": "code",
        "colab": {
          "base_uri": "https://localhost:8080/",
          "height": 198
        },
        "outputId": "655ff774-369c-47f1-ce83-6b0dcf756529"
      },
      "source": [
        "df"
      ],
      "execution_count": null,
      "outputs": [
        {
          "output_type": "execute_result",
          "data": {
            "text/html": [
              "<div>\n",
              "<style scoped>\n",
              "    .dataframe tbody tr th:only-of-type {\n",
              "        vertical-align: middle;\n",
              "    }\n",
              "\n",
              "    .dataframe tbody tr th {\n",
              "        vertical-align: top;\n",
              "    }\n",
              "\n",
              "    .dataframe thead th {\n",
              "        text-align: right;\n",
              "    }\n",
              "</style>\n",
              "<table border=\"1\" class=\"dataframe\">\n",
              "  <thead>\n",
              "    <tr style=\"text-align: right;\">\n",
              "      <th></th>\n",
              "      <th>w</th>\n",
              "      <th>x</th>\n",
              "      <th>y</th>\n",
              "      <th>z</th>\n",
              "    </tr>\n",
              "  </thead>\n",
              "  <tbody>\n",
              "    <tr>\n",
              "      <th>a</th>\n",
              "      <td>-0.699078</td>\n",
              "      <td>-1.183739</td>\n",
              "      <td>-0.603630</td>\n",
              "      <td>-0.464208</td>\n",
              "    </tr>\n",
              "    <tr>\n",
              "      <th>b</th>\n",
              "      <td>-0.134512</td>\n",
              "      <td>-0.715176</td>\n",
              "      <td>0.445498</td>\n",
              "      <td>-0.950023</td>\n",
              "    </tr>\n",
              "    <tr>\n",
              "      <th>c</th>\n",
              "      <td>0.250626</td>\n",
              "      <td>0.029370</td>\n",
              "      <td>-2.629197</td>\n",
              "      <td>0.361215</td>\n",
              "    </tr>\n",
              "    <tr>\n",
              "      <th>d</th>\n",
              "      <td>-0.876252</td>\n",
              "      <td>-0.278348</td>\n",
              "      <td>0.355450</td>\n",
              "      <td>-1.067322</td>\n",
              "    </tr>\n",
              "    <tr>\n",
              "      <th>e</th>\n",
              "      <td>-0.425505</td>\n",
              "      <td>1.739650</td>\n",
              "      <td>-0.586495</td>\n",
              "      <td>0.023511</td>\n",
              "    </tr>\n",
              "  </tbody>\n",
              "</table>\n",
              "</div>"
            ],
            "text/plain": [
              "          w         x         y         z\n",
              "a -0.699078 -1.183739 -0.603630 -0.464208\n",
              "b -0.134512 -0.715176  0.445498 -0.950023\n",
              "c  0.250626  0.029370 -2.629197  0.361215\n",
              "d -0.876252 -0.278348  0.355450 -1.067322\n",
              "e -0.425505  1.739650 -0.586495  0.023511"
            ]
          },
          "metadata": {
            "tags": []
          },
          "execution_count": 10
        }
      ]
    },
    {
      "cell_type": "code",
      "metadata": {
        "id": "KnGGuPmEKVxR",
        "colab_type": "code",
        "colab": {
          "base_uri": "https://localhost:8080/",
          "height": 168
        },
        "outputId": "c03850b1-78a9-4d0b-cee6-9ffed92ca5d1"
      },
      "source": [
        "df[(df['x']>0)|(df['y']>0)]"
      ],
      "execution_count": null,
      "outputs": [
        {
          "output_type": "execute_result",
          "data": {
            "text/html": [
              "<div>\n",
              "<style scoped>\n",
              "    .dataframe tbody tr th:only-of-type {\n",
              "        vertical-align: middle;\n",
              "    }\n",
              "\n",
              "    .dataframe tbody tr th {\n",
              "        vertical-align: top;\n",
              "    }\n",
              "\n",
              "    .dataframe thead th {\n",
              "        text-align: right;\n",
              "    }\n",
              "</style>\n",
              "<table border=\"1\" class=\"dataframe\">\n",
              "  <thead>\n",
              "    <tr style=\"text-align: right;\">\n",
              "      <th></th>\n",
              "      <th>w</th>\n",
              "      <th>x</th>\n",
              "      <th>y</th>\n",
              "      <th>z</th>\n",
              "    </tr>\n",
              "  </thead>\n",
              "  <tbody>\n",
              "    <tr>\n",
              "      <th>b</th>\n",
              "      <td>-0.134512</td>\n",
              "      <td>-0.715176</td>\n",
              "      <td>0.445498</td>\n",
              "      <td>-0.950023</td>\n",
              "    </tr>\n",
              "    <tr>\n",
              "      <th>c</th>\n",
              "      <td>0.250626</td>\n",
              "      <td>0.029370</td>\n",
              "      <td>-2.629197</td>\n",
              "      <td>0.361215</td>\n",
              "    </tr>\n",
              "    <tr>\n",
              "      <th>d</th>\n",
              "      <td>-0.876252</td>\n",
              "      <td>-0.278348</td>\n",
              "      <td>0.355450</td>\n",
              "      <td>-1.067322</td>\n",
              "    </tr>\n",
              "    <tr>\n",
              "      <th>e</th>\n",
              "      <td>-0.425505</td>\n",
              "      <td>1.739650</td>\n",
              "      <td>-0.586495</td>\n",
              "      <td>0.023511</td>\n",
              "    </tr>\n",
              "  </tbody>\n",
              "</table>\n",
              "</div>"
            ],
            "text/plain": [
              "          w         x         y         z\n",
              "b -0.134512 -0.715176  0.445498 -0.950023\n",
              "c  0.250626  0.029370 -2.629197  0.361215\n",
              "d -0.876252 -0.278348  0.355450 -1.067322\n",
              "e -0.425505  1.739650 -0.586495  0.023511"
            ]
          },
          "metadata": {
            "tags": []
          },
          "execution_count": 13
        }
      ]
    },
    {
      "cell_type": "code",
      "metadata": {
        "id": "Ce0wADwQKnyT",
        "colab_type": "code",
        "colab": {
          "base_uri": "https://localhost:8080/",
          "height": 198
        },
        "outputId": "141edcb1-a7c7-4d60-ede9-843cf697839f"
      },
      "source": [
        "df.reset_index()"
      ],
      "execution_count": null,
      "outputs": [
        {
          "output_type": "execute_result",
          "data": {
            "text/html": [
              "<div>\n",
              "<style scoped>\n",
              "    .dataframe tbody tr th:only-of-type {\n",
              "        vertical-align: middle;\n",
              "    }\n",
              "\n",
              "    .dataframe tbody tr th {\n",
              "        vertical-align: top;\n",
              "    }\n",
              "\n",
              "    .dataframe thead th {\n",
              "        text-align: right;\n",
              "    }\n",
              "</style>\n",
              "<table border=\"1\" class=\"dataframe\">\n",
              "  <thead>\n",
              "    <tr style=\"text-align: right;\">\n",
              "      <th></th>\n",
              "      <th>index</th>\n",
              "      <th>w</th>\n",
              "      <th>x</th>\n",
              "      <th>y</th>\n",
              "      <th>z</th>\n",
              "    </tr>\n",
              "  </thead>\n",
              "  <tbody>\n",
              "    <tr>\n",
              "      <th>0</th>\n",
              "      <td>a</td>\n",
              "      <td>-0.699078</td>\n",
              "      <td>-1.183739</td>\n",
              "      <td>-0.603630</td>\n",
              "      <td>-0.464208</td>\n",
              "    </tr>\n",
              "    <tr>\n",
              "      <th>1</th>\n",
              "      <td>b</td>\n",
              "      <td>-0.134512</td>\n",
              "      <td>-0.715176</td>\n",
              "      <td>0.445498</td>\n",
              "      <td>-0.950023</td>\n",
              "    </tr>\n",
              "    <tr>\n",
              "      <th>2</th>\n",
              "      <td>c</td>\n",
              "      <td>0.250626</td>\n",
              "      <td>0.029370</td>\n",
              "      <td>-2.629197</td>\n",
              "      <td>0.361215</td>\n",
              "    </tr>\n",
              "    <tr>\n",
              "      <th>3</th>\n",
              "      <td>d</td>\n",
              "      <td>-0.876252</td>\n",
              "      <td>-0.278348</td>\n",
              "      <td>0.355450</td>\n",
              "      <td>-1.067322</td>\n",
              "    </tr>\n",
              "    <tr>\n",
              "      <th>4</th>\n",
              "      <td>e</td>\n",
              "      <td>-0.425505</td>\n",
              "      <td>1.739650</td>\n",
              "      <td>-0.586495</td>\n",
              "      <td>0.023511</td>\n",
              "    </tr>\n",
              "  </tbody>\n",
              "</table>\n",
              "</div>"
            ],
            "text/plain": [
              "  index         w         x         y         z\n",
              "0     a -0.699078 -1.183739 -0.603630 -0.464208\n",
              "1     b -0.134512 -0.715176  0.445498 -0.950023\n",
              "2     c  0.250626  0.029370 -2.629197  0.361215\n",
              "3     d -0.876252 -0.278348  0.355450 -1.067322\n",
              "4     e -0.425505  1.739650 -0.586495  0.023511"
            ]
          },
          "metadata": {
            "tags": []
          },
          "execution_count": 14
        }
      ]
    },
    {
      "cell_type": "code",
      "metadata": {
        "id": "GbxWFzoGLwma",
        "colab_type": "code",
        "colab": {
          "base_uri": "https://localhost:8080/",
          "height": 198
        },
        "outputId": "9a953b6c-e4b6-46cd-8884-0c3c21b1a9d9"
      },
      "source": [
        "new_ind='A B C D E'.split()\n",
        "df['cap']=new_ind\n",
        "df"
      ],
      "execution_count": null,
      "outputs": [
        {
          "output_type": "execute_result",
          "data": {
            "text/html": [
              "<div>\n",
              "<style scoped>\n",
              "    .dataframe tbody tr th:only-of-type {\n",
              "        vertical-align: middle;\n",
              "    }\n",
              "\n",
              "    .dataframe tbody tr th {\n",
              "        vertical-align: top;\n",
              "    }\n",
              "\n",
              "    .dataframe thead th {\n",
              "        text-align: right;\n",
              "    }\n",
              "</style>\n",
              "<table border=\"1\" class=\"dataframe\">\n",
              "  <thead>\n",
              "    <tr style=\"text-align: right;\">\n",
              "      <th></th>\n",
              "      <th>w</th>\n",
              "      <th>x</th>\n",
              "      <th>y</th>\n",
              "      <th>z</th>\n",
              "      <th>cap</th>\n",
              "    </tr>\n",
              "  </thead>\n",
              "  <tbody>\n",
              "    <tr>\n",
              "      <th>a</th>\n",
              "      <td>-0.699078</td>\n",
              "      <td>-1.183739</td>\n",
              "      <td>-0.603630</td>\n",
              "      <td>-0.464208</td>\n",
              "      <td>A</td>\n",
              "    </tr>\n",
              "    <tr>\n",
              "      <th>b</th>\n",
              "      <td>-0.134512</td>\n",
              "      <td>-0.715176</td>\n",
              "      <td>0.445498</td>\n",
              "      <td>-0.950023</td>\n",
              "      <td>B</td>\n",
              "    </tr>\n",
              "    <tr>\n",
              "      <th>c</th>\n",
              "      <td>0.250626</td>\n",
              "      <td>0.029370</td>\n",
              "      <td>-2.629197</td>\n",
              "      <td>0.361215</td>\n",
              "      <td>C</td>\n",
              "    </tr>\n",
              "    <tr>\n",
              "      <th>d</th>\n",
              "      <td>-0.876252</td>\n",
              "      <td>-0.278348</td>\n",
              "      <td>0.355450</td>\n",
              "      <td>-1.067322</td>\n",
              "      <td>D</td>\n",
              "    </tr>\n",
              "    <tr>\n",
              "      <th>e</th>\n",
              "      <td>-0.425505</td>\n",
              "      <td>1.739650</td>\n",
              "      <td>-0.586495</td>\n",
              "      <td>0.023511</td>\n",
              "      <td>E</td>\n",
              "    </tr>\n",
              "  </tbody>\n",
              "</table>\n",
              "</div>"
            ],
            "text/plain": [
              "          w         x         y         z cap\n",
              "a -0.699078 -1.183739 -0.603630 -0.464208   A\n",
              "b -0.134512 -0.715176  0.445498 -0.950023   B\n",
              "c  0.250626  0.029370 -2.629197  0.361215   C\n",
              "d -0.876252 -0.278348  0.355450 -1.067322   D\n",
              "e -0.425505  1.739650 -0.586495  0.023511   E"
            ]
          },
          "metadata": {
            "tags": []
          },
          "execution_count": 15
        }
      ]
    },
    {
      "cell_type": "code",
      "metadata": {
        "id": "pHnaHP-_MFeW",
        "colab_type": "code",
        "colab": {}
      },
      "source": [
        "df.set_index('cap',inplace=True)"
      ],
      "execution_count": null,
      "outputs": []
    },
    {
      "cell_type": "code",
      "metadata": {
        "id": "l4gMs6ySML5M",
        "colab_type": "code",
        "colab": {
          "base_uri": "https://localhost:8080/",
          "height": 228
        },
        "outputId": "f8129989-ba0e-4648-e7e2-3a24f043b17f"
      },
      "source": [
        "df"
      ],
      "execution_count": null,
      "outputs": [
        {
          "output_type": "execute_result",
          "data": {
            "text/html": [
              "<div>\n",
              "<style scoped>\n",
              "    .dataframe tbody tr th:only-of-type {\n",
              "        vertical-align: middle;\n",
              "    }\n",
              "\n",
              "    .dataframe tbody tr th {\n",
              "        vertical-align: top;\n",
              "    }\n",
              "\n",
              "    .dataframe thead th {\n",
              "        text-align: right;\n",
              "    }\n",
              "</style>\n",
              "<table border=\"1\" class=\"dataframe\">\n",
              "  <thead>\n",
              "    <tr style=\"text-align: right;\">\n",
              "      <th></th>\n",
              "      <th>w</th>\n",
              "      <th>x</th>\n",
              "      <th>y</th>\n",
              "      <th>z</th>\n",
              "    </tr>\n",
              "    <tr>\n",
              "      <th>cap</th>\n",
              "      <th></th>\n",
              "      <th></th>\n",
              "      <th></th>\n",
              "      <th></th>\n",
              "    </tr>\n",
              "  </thead>\n",
              "  <tbody>\n",
              "    <tr>\n",
              "      <th>A</th>\n",
              "      <td>-0.699078</td>\n",
              "      <td>-1.183739</td>\n",
              "      <td>-0.603630</td>\n",
              "      <td>-0.464208</td>\n",
              "    </tr>\n",
              "    <tr>\n",
              "      <th>B</th>\n",
              "      <td>-0.134512</td>\n",
              "      <td>-0.715176</td>\n",
              "      <td>0.445498</td>\n",
              "      <td>-0.950023</td>\n",
              "    </tr>\n",
              "    <tr>\n",
              "      <th>C</th>\n",
              "      <td>0.250626</td>\n",
              "      <td>0.029370</td>\n",
              "      <td>-2.629197</td>\n",
              "      <td>0.361215</td>\n",
              "    </tr>\n",
              "    <tr>\n",
              "      <th>D</th>\n",
              "      <td>-0.876252</td>\n",
              "      <td>-0.278348</td>\n",
              "      <td>0.355450</td>\n",
              "      <td>-1.067322</td>\n",
              "    </tr>\n",
              "    <tr>\n",
              "      <th>E</th>\n",
              "      <td>-0.425505</td>\n",
              "      <td>1.739650</td>\n",
              "      <td>-0.586495</td>\n",
              "      <td>0.023511</td>\n",
              "    </tr>\n",
              "  </tbody>\n",
              "</table>\n",
              "</div>"
            ],
            "text/plain": [
              "            w         x         y         z\n",
              "cap                                        \n",
              "A   -0.699078 -1.183739 -0.603630 -0.464208\n",
              "B   -0.134512 -0.715176  0.445498 -0.950023\n",
              "C    0.250626  0.029370 -2.629197  0.361215\n",
              "D   -0.876252 -0.278348  0.355450 -1.067322\n",
              "E   -0.425505  1.739650 -0.586495  0.023511"
            ]
          },
          "metadata": {
            "tags": []
          },
          "execution_count": 18
        }
      ]
    },
    {
      "cell_type": "code",
      "metadata": {
        "id": "ofdvrJNJMSYQ",
        "colab_type": "code",
        "colab": {}
      },
      "source": [
        ""
      ],
      "execution_count": null,
      "outputs": []
    }
  ]
}