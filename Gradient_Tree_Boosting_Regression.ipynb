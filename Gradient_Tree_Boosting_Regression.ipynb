{
  "nbformat": 4,
  "nbformat_minor": 0,
  "metadata": {
    "colab": {
      "name": "Gradient Tree Boosting Regression",
      "provenance": [],
      "collapsed_sections": []
    },
    "kernelspec": {
      "name": "python3",
      "display_name": "Python 3"
    }
  },
  "cells": [
    {
      "cell_type": "code",
      "metadata": {
        "id": "sGkiqbkx4C30",
        "colab_type": "code",
        "colab": {}
      },
      "source": [
        "import matplotlib.pyplot as plt\n",
        "import numpy as np\n",
        "import pandas as pd\n",
        "from sklearn import ensemble, datasets\n",
        "from sklearn.inspection import permutation_importance \n",
        "from sklearn.metrics import mean_squared_error\n",
        "from sklearn.model_selection import train_test_split\n",
        "from sklearn.ensemble import GradientBoostingRegressor"
      ],
      "execution_count": 29,
      "outputs": []
    },
    {
      "cell_type": "code",
      "metadata": {
        "id": "SAUzqi70tv2t",
        "colab_type": "code",
        "colab": {}
      },
      "source": [
        "dia= datasets.load_diabetes()\n",
        "x,y= dia.data,dia.target"
      ],
      "execution_count": 2,
      "outputs": []
    },
    {
      "cell_type": "code",
      "metadata": {
        "id": "-aY9fmKSt-aT",
        "colab_type": "code",
        "colab": {
          "base_uri": "https://localhost:8080/",
          "height": 254
        },
        "outputId": "10cdac2c-d492-4817-c914-325985388360"
      },
      "source": [
        "print(x)"
      ],
      "execution_count": 3,
      "outputs": [
        {
          "output_type": "stream",
          "text": [
            "[[ 0.03807591  0.05068012  0.06169621 ... -0.00259226  0.01990842\n",
            "  -0.01764613]\n",
            " [-0.00188202 -0.04464164 -0.05147406 ... -0.03949338 -0.06832974\n",
            "  -0.09220405]\n",
            " [ 0.08529891  0.05068012  0.04445121 ... -0.00259226  0.00286377\n",
            "  -0.02593034]\n",
            " ...\n",
            " [ 0.04170844  0.05068012 -0.01590626 ... -0.01107952 -0.04687948\n",
            "   0.01549073]\n",
            " [-0.04547248 -0.04464164  0.03906215 ...  0.02655962  0.04452837\n",
            "  -0.02593034]\n",
            " [-0.04547248 -0.04464164 -0.0730303  ... -0.03949338 -0.00421986\n",
            "   0.00306441]]\n"
          ],
          "name": "stdout"
        }
      ]
    },
    {
      "cell_type": "code",
      "metadata": {
        "id": "ctYpHOOht_5P",
        "colab_type": "code",
        "colab": {
          "base_uri": "https://localhost:8080/",
          "height": 599
        },
        "outputId": "9d0b04e5-4163-43a7-a438-69a04baf463e"
      },
      "source": [
        "print(y)"
      ],
      "execution_count": 4,
      "outputs": [
        {
          "output_type": "stream",
          "text": [
            "[151.  75. 141. 206. 135.  97. 138.  63. 110. 310. 101.  69. 179. 185.\n",
            " 118. 171. 166. 144.  97. 168.  68.  49.  68. 245. 184. 202. 137.  85.\n",
            " 131. 283. 129.  59. 341.  87.  65. 102. 265. 276. 252.  90. 100.  55.\n",
            "  61.  92. 259.  53. 190. 142.  75. 142. 155. 225.  59. 104. 182. 128.\n",
            "  52.  37. 170. 170.  61. 144.  52. 128.  71. 163. 150.  97. 160. 178.\n",
            "  48. 270. 202. 111.  85.  42. 170. 200. 252. 113. 143.  51.  52. 210.\n",
            "  65. 141.  55. 134.  42. 111.  98. 164.  48.  96.  90. 162. 150. 279.\n",
            "  92.  83. 128. 102. 302. 198.  95.  53. 134. 144. 232.  81. 104.  59.\n",
            " 246. 297. 258. 229. 275. 281. 179. 200. 200. 173. 180.  84. 121. 161.\n",
            "  99. 109. 115. 268. 274. 158. 107.  83. 103. 272.  85. 280. 336. 281.\n",
            " 118. 317. 235.  60. 174. 259. 178. 128.  96. 126. 288.  88. 292.  71.\n",
            " 197. 186.  25.  84.  96. 195.  53. 217. 172. 131. 214.  59.  70. 220.\n",
            " 268. 152.  47.  74. 295. 101. 151. 127. 237. 225.  81. 151. 107.  64.\n",
            " 138. 185. 265. 101. 137. 143. 141.  79. 292. 178.  91. 116.  86. 122.\n",
            "  72. 129. 142.  90. 158.  39. 196. 222. 277.  99. 196. 202. 155.  77.\n",
            " 191.  70.  73.  49.  65. 263. 248. 296. 214. 185.  78.  93. 252. 150.\n",
            "  77. 208.  77. 108. 160.  53. 220. 154. 259.  90. 246. 124.  67.  72.\n",
            " 257. 262. 275. 177.  71.  47. 187. 125.  78.  51. 258. 215. 303. 243.\n",
            "  91. 150. 310. 153. 346.  63.  89.  50.  39. 103. 308. 116. 145.  74.\n",
            "  45. 115. 264.  87. 202. 127. 182. 241.  66.  94. 283.  64. 102. 200.\n",
            " 265.  94. 230. 181. 156. 233.  60. 219.  80.  68. 332. 248.  84. 200.\n",
            "  55.  85.  89.  31. 129.  83. 275.  65. 198. 236. 253. 124.  44. 172.\n",
            " 114. 142. 109. 180. 144. 163. 147.  97. 220. 190. 109. 191. 122. 230.\n",
            " 242. 248. 249. 192. 131. 237.  78. 135. 244. 199. 270. 164.  72.  96.\n",
            " 306.  91. 214.  95. 216. 263. 178. 113. 200. 139. 139.  88. 148.  88.\n",
            " 243.  71.  77. 109. 272.  60.  54. 221.  90. 311. 281. 182. 321.  58.\n",
            " 262. 206. 233. 242. 123. 167.  63. 197.  71. 168. 140. 217. 121. 235.\n",
            " 245.  40.  52. 104. 132.  88.  69. 219.  72. 201. 110.  51. 277.  63.\n",
            " 118.  69. 273. 258.  43. 198. 242. 232. 175.  93. 168. 275. 293. 281.\n",
            "  72. 140. 189. 181. 209. 136. 261. 113. 131. 174. 257.  55.  84.  42.\n",
            " 146. 212. 233.  91. 111. 152. 120.  67. 310.  94. 183.  66. 173.  72.\n",
            "  49.  64.  48. 178. 104. 132. 220.  57.]\n"
          ],
          "name": "stdout"
        }
      ]
    },
    {
      "cell_type": "code",
      "metadata": {
        "id": "Kk6ieSgWg2mJ",
        "colab_type": "code",
        "colab": {
          "base_uri": "https://localhost:8080/",
          "height": 35
        },
        "outputId": "ee8343c0-e007-4377-8090-28405eb57002"
      },
      "source": [
        "type(dia)"
      ],
      "execution_count": 36,
      "outputs": [
        {
          "output_type": "execute_result",
          "data": {
            "text/plain": [
              "sklearn.utils.Bunch"
            ]
          },
          "metadata": {
            "tags": []
          },
          "execution_count": 36
        }
      ]
    },
    {
      "cell_type": "code",
      "metadata": {
        "id": "WIKy8aeKheQU",
        "colab_type": "code",
        "colab": {
          "base_uri": "https://localhost:8080/",
          "height": 35
        },
        "outputId": "8c6193bc-bb49-4cf9-a9c7-bb92ccd5cb1c"
      },
      "source": [
        "type(x)"
      ],
      "execution_count": 37,
      "outputs": [
        {
          "output_type": "execute_result",
          "data": {
            "text/plain": [
              "numpy.ndarray"
            ]
          },
          "metadata": {
            "tags": []
          },
          "execution_count": 37
        }
      ]
    },
    {
      "cell_type": "code",
      "metadata": {
        "id": "HDsVxPbXuEB0",
        "colab_type": "code",
        "colab": {}
      },
      "source": [
        "xtr,xte,ytr,yte= train_test_split(x,y,test_size=0.1,random_state=13)"
      ],
      "execution_count": 5,
      "outputs": []
    },
    {
      "cell_type": "code",
      "metadata": {
        "id": "8rzvWEtFuloB",
        "colab_type": "code",
        "colab": {
          "base_uri": "https://localhost:8080/",
          "height": 181
        },
        "outputId": "aad3391f-4a30-4119-c049-507bca947824"
      },
      "source": [
        "gbr= GradientBoostingRegressor(n_estimators=500, max_depth=4, min_samples_split=5, learning_rate=0.01, loss='ls')\n",
        "gbr.fit(xtr,ytr)"
      ],
      "execution_count": 6,
      "outputs": [
        {
          "output_type": "execute_result",
          "data": {
            "text/plain": [
              "GradientBoostingRegressor(alpha=0.9, ccp_alpha=0.0, criterion='friedman_mse',\n",
              "                          init=None, learning_rate=0.01, loss='ls', max_depth=4,\n",
              "                          max_features=None, max_leaf_nodes=None,\n",
              "                          min_impurity_decrease=0.0, min_impurity_split=None,\n",
              "                          min_samples_leaf=1, min_samples_split=5,\n",
              "                          min_weight_fraction_leaf=0.0, n_estimators=500,\n",
              "                          n_iter_no_change=None, presort='deprecated',\n",
              "                          random_state=None, subsample=1.0, tol=0.0001,\n",
              "                          validation_fraction=0.1, verbose=0, warm_start=False)"
            ]
          },
          "metadata": {
            "tags": []
          },
          "execution_count": 6
        }
      ]
    },
    {
      "cell_type": "code",
      "metadata": {
        "id": "rgMj8unovTIT",
        "colab_type": "code",
        "colab": {}
      },
      "source": [
        "ypr=gbr.predict(xte)"
      ],
      "execution_count": 7,
      "outputs": []
    },
    {
      "cell_type": "code",
      "metadata": {
        "id": "wK_aMvG9vaXq",
        "colab_type": "code",
        "colab": {
          "base_uri": "https://localhost:8080/",
          "height": 35
        },
        "outputId": "2cf615fc-4066-4e3c-c689-93aece6f60ee"
      },
      "source": [
        "mse= mean_squared_error(yte,ypr)\n",
        "print(\"Mean squared error: {:0.4f} \".format(mse))"
      ],
      "execution_count": 8,
      "outputs": [
        {
          "output_type": "stream",
          "text": [
            "Mean squared error: 3017.2129 \n"
          ],
          "name": "stdout"
        }
      ]
    },
    {
      "cell_type": "code",
      "metadata": {
        "id": "FEo0nauAvnSk",
        "colab_type": "code",
        "colab": {
          "base_uri": "https://localhost:8080/",
          "height": 399
        },
        "outputId": "265cfcb3-550a-401d-84f2-ff8ef94daa3c"
      },
      "source": [
        "#test score as tesr\n",
        "tesr = np.zeros(500, dtype=np.float64)\n",
        "print(tesr)"
      ],
      "execution_count": 9,
      "outputs": [
        {
          "output_type": "stream",
          "text": [
            "[0. 0. 0. 0. 0. 0. 0. 0. 0. 0. 0. 0. 0. 0. 0. 0. 0. 0. 0. 0. 0. 0. 0. 0.\n",
            " 0. 0. 0. 0. 0. 0. 0. 0. 0. 0. 0. 0. 0. 0. 0. 0. 0. 0. 0. 0. 0. 0. 0. 0.\n",
            " 0. 0. 0. 0. 0. 0. 0. 0. 0. 0. 0. 0. 0. 0. 0. 0. 0. 0. 0. 0. 0. 0. 0. 0.\n",
            " 0. 0. 0. 0. 0. 0. 0. 0. 0. 0. 0. 0. 0. 0. 0. 0. 0. 0. 0. 0. 0. 0. 0. 0.\n",
            " 0. 0. 0. 0. 0. 0. 0. 0. 0. 0. 0. 0. 0. 0. 0. 0. 0. 0. 0. 0. 0. 0. 0. 0.\n",
            " 0. 0. 0. 0. 0. 0. 0. 0. 0. 0. 0. 0. 0. 0. 0. 0. 0. 0. 0. 0. 0. 0. 0. 0.\n",
            " 0. 0. 0. 0. 0. 0. 0. 0. 0. 0. 0. 0. 0. 0. 0. 0. 0. 0. 0. 0. 0. 0. 0. 0.\n",
            " 0. 0. 0. 0. 0. 0. 0. 0. 0. 0. 0. 0. 0. 0. 0. 0. 0. 0. 0. 0. 0. 0. 0. 0.\n",
            " 0. 0. 0. 0. 0. 0. 0. 0. 0. 0. 0. 0. 0. 0. 0. 0. 0. 0. 0. 0. 0. 0. 0. 0.\n",
            " 0. 0. 0. 0. 0. 0. 0. 0. 0. 0. 0. 0. 0. 0. 0. 0. 0. 0. 0. 0. 0. 0. 0. 0.\n",
            " 0. 0. 0. 0. 0. 0. 0. 0. 0. 0. 0. 0. 0. 0. 0. 0. 0. 0. 0. 0. 0. 0. 0. 0.\n",
            " 0. 0. 0. 0. 0. 0. 0. 0. 0. 0. 0. 0. 0. 0. 0. 0. 0. 0. 0. 0. 0. 0. 0. 0.\n",
            " 0. 0. 0. 0. 0. 0. 0. 0. 0. 0. 0. 0. 0. 0. 0. 0. 0. 0. 0. 0. 0. 0. 0. 0.\n",
            " 0. 0. 0. 0. 0. 0. 0. 0. 0. 0. 0. 0. 0. 0. 0. 0. 0. 0. 0. 0. 0. 0. 0. 0.\n",
            " 0. 0. 0. 0. 0. 0. 0. 0. 0. 0. 0. 0. 0. 0. 0. 0. 0. 0. 0. 0. 0. 0. 0. 0.\n",
            " 0. 0. 0. 0. 0. 0. 0. 0. 0. 0. 0. 0. 0. 0. 0. 0. 0. 0. 0. 0. 0. 0. 0. 0.\n",
            " 0. 0. 0. 0. 0. 0. 0. 0. 0. 0. 0. 0. 0. 0. 0. 0. 0. 0. 0. 0. 0. 0. 0. 0.\n",
            " 0. 0. 0. 0. 0. 0. 0. 0. 0. 0. 0. 0. 0. 0. 0. 0. 0. 0. 0. 0. 0. 0. 0. 0.\n",
            " 0. 0. 0. 0. 0. 0. 0. 0. 0. 0. 0. 0. 0. 0. 0. 0. 0. 0. 0. 0. 0. 0. 0. 0.\n",
            " 0. 0. 0. 0. 0. 0. 0. 0. 0. 0. 0. 0. 0. 0. 0. 0. 0. 0. 0. 0. 0. 0. 0. 0.\n",
            " 0. 0. 0. 0. 0. 0. 0. 0. 0. 0. 0. 0. 0. 0. 0. 0. 0. 0. 0. 0.]\n"
          ],
          "name": "stdout"
        }
      ]
    },
    {
      "cell_type": "code",
      "metadata": {
        "id": "N_BDs5M-xpI-",
        "colab_type": "code",
        "colab": {
          "base_uri": "https://localhost:8080/",
          "height": 1000
        },
        "outputId": "43870d57-f990-42e4-a479-6633fe565240"
      },
      "source": [
        "for i, ypr in enumerate(gbr.staged_predict(xte)):\n",
        "    tesr[i]= gbr.loss_(yte,ypr)\n",
        "    print(tesr[i])\n"
      ],
      "execution_count": 10,
      "outputs": [
        {
          "output_type": "stream",
          "text": [
            "5341.536087443473\n",
            "5283.459021913139\n",
            "5233.9927771408165\n",
            "5183.060881796278\n",
            "5131.362546718728\n",
            "5080.869387641822\n",
            "5033.221391930658\n",
            "4987.588180488163\n",
            "4942.222386827257\n",
            "4899.193209089859\n",
            "4857.589692697219\n",
            "4815.757134769666\n",
            "4775.745611750816\n",
            "4737.033359315734\n",
            "4693.921565268716\n",
            "4661.143364773898\n",
            "4625.149454520638\n",
            "4586.696471124109\n",
            "4550.5775671540405\n",
            "4515.753674605043\n",
            "4479.6530349908335\n",
            "4441.45016032525\n",
            "4409.075050012082\n",
            "4377.670686601143\n",
            "4346.8901025417\n",
            "4310.772617715845\n",
            "4282.28464626713\n",
            "4253.828164406286\n",
            "4224.627741440908\n",
            "4194.877905961466\n",
            "4169.348690836932\n",
            "4138.814190755544\n",
            "4111.478672378442\n",
            "4077.9691704493566\n",
            "4052.9732049891654\n",
            "4025.6075362271577\n",
            "4001.97809989958\n",
            "3979.1406985388185\n",
            "3953.316661970858\n",
            "3929.5530848892395\n",
            "3907.073606908157\n",
            "3878.6642198993172\n",
            "3853.220294112301\n",
            "3833.7276220412127\n",
            "3810.5855219583605\n",
            "3786.6166090768634\n",
            "3764.462425470239\n",
            "3738.8579538597673\n",
            "3720.798351128932\n",
            "3703.3053419590974\n",
            "3682.741154857583\n",
            "3667.687828389513\n",
            "3651.2784555441726\n",
            "3633.27880725924\n",
            "3619.732151634659\n",
            "3599.760453215503\n",
            "3586.944506224375\n",
            "3573.0106597275467\n",
            "3554.3060670424725\n",
            "3548.2804219992004\n",
            "3530.434399128475\n",
            "3520.025830242215\n",
            "3507.111846226393\n",
            "3490.6570040684605\n",
            "3478.0394513361384\n",
            "3470.1151302499347\n",
            "3457.6322882648874\n",
            "3442.7822400028317\n",
            "3435.5450971859923\n",
            "3423.765833861889\n",
            "3412.1156614331844\n",
            "3407.841589294033\n",
            "3402.2749936581304\n",
            "3392.94800136776\n",
            "3387.07723188825\n",
            "3381.659942250641\n",
            "3374.773816693323\n",
            "3367.817384252408\n",
            "3361.5048155969107\n",
            "3352.700101692876\n",
            "3347.560766426629\n",
            "3343.2705516128244\n",
            "3333.8034550419025\n",
            "3323.796605999723\n",
            "3313.8592869909207\n",
            "3310.4744307780957\n",
            "3301.0279331025954\n",
            "3292.0993184487593\n",
            "3284.5227693514516\n",
            "3273.8475972968567\n",
            "3266.2182583758686\n",
            "3256.5523690218147\n",
            "3251.243280234689\n",
            "3245.7499842378234\n",
            "3236.2190335181594\n",
            "3235.335943643737\n",
            "3228.324415583765\n",
            "3226.247756420887\n",
            "3216.9977898944157\n",
            "3216.9942572166296\n",
            "3214.556323586119\n",
            "3206.4004948484303\n",
            "3205.2006958870993\n",
            "3196.9864085646236\n",
            "3194.962376239772\n",
            "3186.774754048622\n",
            "3186.806781158695\n",
            "3176.049171946918\n",
            "3175.936520419045\n",
            "3175.2009602053026\n",
            "3165.0267093785947\n",
            "3165.0948581286357\n",
            "3155.5821260582143\n",
            "3155.7920451724076\n",
            "3146.3106599501366\n",
            "3146.733476339525\n",
            "3147.041608710089\n",
            "3140.722722910928\n",
            "3138.61459083221\n",
            "3129.9546963929865\n",
            "3130.954216874767\n",
            "3122.8111702508586\n",
            "3122.1428646386657\n",
            "3116.8965791445917\n",
            "3118.2840477639857\n",
            "3110.212952633736\n",
            "3111.275886757985\n",
            "3107.2133105698867\n",
            "3102.4212501881016\n",
            "3101.623914450431\n",
            "3098.7396373138\n",
            "3094.372291930115\n",
            "3090.7017716548767\n",
            "3087.3419775059997\n",
            "3085.943913418744\n",
            "3086.4270298353968\n",
            "3085.1641091134306\n",
            "3079.0306004911563\n",
            "3077.9117725326464\n",
            "3073.913329356894\n",
            "3068.346505261457\n",
            "3066.368508298721\n",
            "3059.256131327446\n",
            "3058.4022129646623\n",
            "3059.8713939700115\n",
            "3054.458956101315\n",
            "3054.2829863760026\n",
            "3059.1262982630533\n",
            "3055.4296617278555\n",
            "3057.1082643555064\n",
            "3062.486097965927\n",
            "3064.2639124718235\n",
            "3062.07649104513\n",
            "3061.6331041216326\n",
            "3061.5154001314368\n",
            "3064.9659651365805\n",
            "3066.931095619741\n",
            "3064.9923873359885\n",
            "3064.753349548537\n",
            "3068.279372287966\n",
            "3068.12588150361\n",
            "3062.1805463999212\n",
            "3063.919498894102\n",
            "3065.3647369280266\n",
            "3063.0539864493708\n",
            "3064.983603588484\n",
            "3064.2857794503525\n",
            "3062.020892241153\n",
            "3058.8801770478894\n",
            "3060.055967612449\n",
            "3063.3562006974103\n",
            "3061.221286078289\n",
            "3059.376207830797\n",
            "3057.4540597070804\n",
            "3057.098147564606\n",
            "3056.520011887978\n",
            "3059.9782481184507\n",
            "3065.453867522617\n",
            "3068.7295329514154\n",
            "3067.649227794418\n",
            "3067.4902063461946\n",
            "3066.2765766351395\n",
            "3069.870244830593\n",
            "3072.810227668866\n",
            "3073.4250650988647\n",
            "3073.34878665874\n",
            "3072.305988780402\n",
            "3073.526757016839\n",
            "3070.897677671037\n",
            "3070.9657145625692\n",
            "3071.9150801864807\n",
            "3073.370624372975\n",
            "3073.4885237852213\n",
            "3072.1715572373146\n",
            "3072.361513620572\n",
            "3068.8449593452056\n",
            "3069.1392304967208\n",
            "3072.3392484982032\n",
            "3071.1843566998787\n",
            "3073.083232597462\n",
            "3074.641465291219\n",
            "3076.6267045492223\n",
            "3076.993090500818\n",
            "3073.737749912899\n",
            "3075.0825999346807\n",
            "3072.63962678038\n",
            "3073.126932610005\n",
            "3072.6305887185295\n",
            "3071.600082234649\n",
            "3072.9878729377856\n",
            "3075.1281525847753\n",
            "3074.64682087403\n",
            "3075.976263200821\n",
            "3075.7654158927357\n",
            "3076.023498922474\n",
            "3074.710769353355\n",
            "3074.196068423926\n",
            "3075.58642411225\n",
            "3071.577544416373\n",
            "3070.992713143489\n",
            "3072.5619686231057\n",
            "3068.5227838352284\n",
            "3069.9402281117127\n",
            "3065.595173307599\n",
            "3064.7855218718487\n",
            "3065.635415120839\n",
            "3060.6935989751028\n",
            "3059.936801203789\n",
            "3059.82408975959\n",
            "3055.000536688963\n",
            "3051.202948705603\n",
            "3046.515825879956\n",
            "3045.826468156434\n",
            "3045.4159808846953\n",
            "3040.749854307433\n",
            "3041.3985272721516\n",
            "3038.0158236942275\n",
            "3037.4081696431153\n",
            "3032.875817142244\n",
            "3033.0164330800776\n",
            "3033.785758574311\n",
            "3035.2387369805797\n",
            "3036.7564690877116\n",
            "3036.988199360872\n",
            "3037.771254781015\n",
            "3037.4818941412987\n",
            "3033.1336135420165\n",
            "3034.667020151945\n",
            "3034.376730604863\n",
            "3035.592502521066\n",
            "3036.7417035813587\n",
            "3032.324321580838\n",
            "3033.9522521285417\n",
            "3033.826910006306\n",
            "3033.618030656065\n",
            "3034.586084542509\n",
            "3030.9922229962217\n",
            "3031.5963233269467\n",
            "3031.5206726785473\n",
            "3027.440741522193\n",
            "3029.000550636413\n",
            "3028.670724785784\n",
            "3028.5575279184095\n",
            "3024.349286955212\n",
            "3026.2030667869853\n",
            "3026.839034026637\n",
            "3026.776184128069\n",
            "3028.632135580008\n",
            "3024.7114048876097\n",
            "3024.3840083543723\n",
            "3026.6744612161706\n",
            "3027.0602559074564\n",
            "3027.651244157091\n",
            "3028.265419691535\n",
            "3029.8067729175473\n",
            "3033.9808245326403\n",
            "3035.55716376786\n",
            "3035.8329664946846\n",
            "3037.408852323156\n",
            "3037.845065420014\n",
            "3038.1139969160813\n",
            "3037.1728639534085\n",
            "3038.7638917392956\n",
            "3039.0592582233157\n",
            "3037.9104001472083\n",
            "3039.1308785841975\n",
            "3040.379901735896\n",
            "3042.0063513163886\n",
            "3043.2796590725566\n",
            "3045.748284592537\n",
            "3046.1099593810477\n",
            "3045.3229326487876\n",
            "3046.506572069841\n",
            "3046.735777573882\n",
            "3042.75116574586\n",
            "3041.9924281076924\n",
            "3043.590535343807\n",
            "3043.5686220710186\n",
            "3042.847635895349\n",
            "3042.3834710656724\n",
            "3038.4996458445726\n",
            "3037.779122346857\n",
            "3038.08940095194\n",
            "3039.44489444867\n",
            "3038.1895870571107\n",
            "3038.4392812229516\n",
            "3038.3710729202594\n",
            "3037.15667974737\n",
            "3038.1360442512932\n",
            "3036.626467133041\n",
            "3035.483302211942\n",
            "3034.5400643535954\n",
            "3033.37362497049\n",
            "3031.7937573117747\n",
            "3031.769653817665\n",
            "3030.324281099476\n",
            "3030.551415501152\n",
            "3031.5200811216096\n",
            "3031.5427178517525\n",
            "3030.1409081794004\n",
            "3030.387947774511\n",
            "3028.8952800412276\n",
            "3028.956825879209\n",
            "3025.7510785001923\n",
            "3024.39324397752\n",
            "3020.9914460636974\n",
            "3021.0901585647143\n",
            "3020.142608495138\n",
            "3018.830390834107\n",
            "3017.747006313621\n",
            "3016.8229264276792\n",
            "3015.85027251613\n",
            "3015.9956832208513\n",
            "3010.4091580818363\n",
            "3010.5664039521957\n",
            "3009.674063828357\n",
            "3006.47496357635\n",
            "3006.855978511253\n",
            "3005.890624420259\n",
            "3006.2675942634037\n",
            "3005.130274423776\n",
            "3003.414808212807\n",
            "3002.955689176816\n",
            "3003.758412643922\n",
            "3001.1648931644895\n",
            "3001.5844194042484\n",
            "3001.5103997653578\n",
            "3002.3443092606476\n",
            "3002.5318255864872\n",
            "3001.041293023994\n",
            "3002.3970674103934\n",
            "3001.1071871047043\n",
            "3003.481573114159\n",
            "3002.2053372765768\n",
            "3003.6289617721036\n",
            "3002.5661996789395\n",
            "3002.064373322916\n",
            "3000.8448490262085\n",
            "3001.916219725172\n",
            "3000.9697917069757\n",
            "2998.594997125454\n",
            "2998.48399669587\n",
            "2995.640737379605\n",
            "2997.088552489846\n",
            "2997.6776108962954\n",
            "2996.3904713705\n",
            "2996.3786499610496\n",
            "2995.8084695899634\n",
            "2997.181362783815\n",
            "2994.6096931874145\n",
            "2994.511811285606\n",
            "2993.945111782867\n",
            "2994.5232070626075\n",
            "2995.812945618701\n",
            "2994.8997610216134\n",
            "2996.3427304564466\n",
            "2997.8988677940306\n",
            "2997.0202462104035\n",
            "2996.101558402827\n",
            "2996.190519138962\n",
            "2994.5703260440705\n",
            "2995.995028572664\n",
            "2996.5540621783903\n",
            "2999.616565803473\n",
            "3001.062969209479\n",
            "3003.655549440399\n",
            "3001.5559683525753\n",
            "3002.1078857390203\n",
            "3002.216853522836\n",
            "3000.9153307768916\n",
            "2998.943624924222\n",
            "2999.047417945101\n",
            "3000.5978638643655\n",
            "2998.735381170897\n",
            "2999.278240120885\n",
            "2999.212893157321\n",
            "3000.760893252305\n",
            "2999.1809878886916\n",
            "2996.130220702372\n",
            "2995.519420200732\n",
            "2996.39032639388\n",
            "2995.5438494230975\n",
            "2994.3086948835557\n",
            "2992.910857498389\n",
            "2991.2615023501503\n",
            "2992.8134992594833\n",
            "2994.086983017869\n",
            "2993.3839869814615\n",
            "2994.1947913639997\n",
            "2992.729827937774\n",
            "2993.4733756530336\n",
            "2992.6061864659896\n",
            "2993.132636318682\n",
            "2992.648787663023\n",
            "2991.412949978774\n",
            "2991.9695159226903\n",
            "2991.059076920613\n",
            "2991.036726354124\n",
            "2991.5889296832593\n",
            "2992.7632500413106\n",
            "2991.8728877617186\n",
            "2990.4690171413945\n",
            "2992.0289968171146\n",
            "2992.5454594383923\n",
            "2991.8869879483855\n",
            "2991.5673081725145\n",
            "2990.1820946586067\n",
            "2989.747025799697\n",
            "2989.4412623498115\n",
            "2989.9531246579613\n",
            "2988.586340110201\n",
            "2986.0758206454166\n",
            "2985.2720194358167\n",
            "2985.2389983160233\n",
            "2985.994455109887\n",
            "2988.1319085874807\n",
            "2988.504287999871\n",
            "2988.524910127286\n",
            "2988.1425396909476\n",
            "2986.9769859091716\n",
            "2984.8345306541078\n",
            "2983.2996113288855\n",
            "2983.6806252597353\n",
            "2981.2686770553055\n",
            "2980.1697585939382\n",
            "2981.1693827857866\n",
            "2981.75896607224\n",
            "2983.0313735922023\n",
            "2980.675740162339\n",
            "2981.0665413448514\n",
            "2980.8863966916456\n",
            "2981.8760102682772\n",
            "2984.172381725426\n",
            "2984.571645858394\n",
            "2985.5563410516247\n",
            "2986.207832600902\n",
            "2986.6158190539695\n",
            "2988.3087581497625\n",
            "2990.4621301295256\n",
            "2991.4440545207412\n",
            "2992.643964632584\n",
            "2990.7543213576655\n",
            "2990.2166831643694\n",
            "2989.1768982534886\n",
            "2987.8498010069266\n",
            "2989.9786957993056\n",
            "2990.7751458213825\n",
            "2991.6847236509648\n",
            "2991.7123196629555\n",
            "2992.1362407179276\n",
            "2993.1101625608353\n",
            "2994.536282901572\n",
            "2995.0352614922253\n",
            "2997.135336346071\n",
            "2998.103525708826\n",
            "2997.81309756543\n",
            "2996.857343558951\n",
            "2997.4658250908174\n",
            "2997.5089755339573\n",
            "2998.4711223164636\n",
            "3001.156452080549\n",
            "3002.922474472746\n",
            "3003.787699014762\n",
            "3002.2447026064924\n",
            "3003.22650778942\n",
            "3004.4908419361373\n",
            "3005.4508379418157\n",
            "3005.4223350662323\n",
            "3006.680910990239\n",
            "3006.686692497561\n",
            "3007.273466848632\n",
            "3008.2295072252286\n",
            "3007.7270578693633\n",
            "3009.9357990911853\n",
            "3010.883698588545\n",
            "3013.8252687459626\n",
            "3013.649917820268\n",
            "3016.5397801554104\n",
            "3017.4798454812644\n",
            "3017.2129466449137\n"
          ],
          "name": "stdout"
        }
      ]
    },
    {
      "cell_type": "markdown",
      "metadata": {
        "id": "aMo_gL_-OUJ4",
        "colab_type": "text"
      },
      "source": [
        "# GBR Visualisation"
      ]
    },
    {
      "cell_type": "code",
      "metadata": {
        "id": "Q4rN1LNOGRSG",
        "colab_type": "code",
        "colab": {
          "base_uri": "https://localhost:8080/",
          "height": 369
        },
        "outputId": "c11bb8b1-aaea-4a98-ea21-cb1417524b6a"
      },
      "source": [
        "fig= plt.figure(figsize=(5,5))\n",
        "plt.subplot(1,1,1)\n",
        "plt.title('Deviance')\n",
        "plt.plot(np.arange(500)+1,gbr.train_score_,'b-',label='Training Set Deviance')\n",
        "plt.plot(np.arange(500)+1,tesr,'r-',label='Test Set Deviance')\n",
        "plt.legend(loc='upper right')\n",
        "plt.xlabel('Boosting Iterations')\n",
        "plt.ylabel('Deviance')\n",
        "fig.tight_layout()\n",
        "plt.show()"
      ],
      "execution_count": 11,
      "outputs": [
        {
          "output_type": "display_data",
          "data": {
            "image/png": "[encoded data removed]",
            "text/plain": [
              "<Figure size 360x360 with 1 Axes>"
            ]
          },
          "metadata": {
            "tags": [],
            "needs_background": "light"
          }
        }
      ]
    },
    {
      "cell_type": "code",
      "metadata": {
        "id": "sJq1Mea2IDtN",
        "colab_type": "code",
        "colab": {
          "base_uri": "https://localhost:8080/",
          "height": 1000
        },
        "outputId": "9fe78c90-ec2d-409a-d73b-0e7ecff3751d"
      },
      "source": [
        "fea_imp= gbr.feature_importances_\n",
        "sort_idx= np.argsort(fea_imp)\n",
        "print(fea_imp)\n",
        "print()\n",
        "print(sort_idx)\n",
        "print()\n",
        "print(fea_imp[sort_idx])\n",
        "print()\n",
        "print(np.array(dia.feature_names)[sort_idx])\n",
        "pos= np.arange(sort_idx.shape[0])+0.5\n",
        "fig=plt.figure(figsize=(12,6))\n",
        "plt.subplot(1,2,1)\n",
        "plt.barh(pos,fea_imp[sort_idx], align='center')\n",
        "plt.yticks(pos,np.array(dia.feature_names)[sort_idx])\n",
        "#plt.yticks(pos)\n",
        "plt.title('Feature Importance (MDI)')\n",
        "\n",
        "result= permutation_importance(gbr,xte,yte,n_repeats=10,random_state=42,n_jobs=2)\n",
        "sort_idx= result.importances_mean.argsort()\n",
        "print(result.importances_mean)\n",
        "print()\n",
        "print(sort_idx)\n",
        "print()\n",
        "print(result.importances)\n",
        "plt.subplot(1,2,2)\n",
        "plt.boxplot(result.importances[sort_idx].T, vert=False, labels=np.array(dia.feature_names)[sort_idx])\n",
        "\n",
        "plt.title('Permutation Importance (Test Set)')\n",
        "fig.tight_layout()\n",
        "plt.show()"
      ],
      "execution_count": 26,
      "outputs": [
        {
          "output_type": "stream",
          "text": [
            "[0.05524512 0.01179631 0.33078474 0.06944388 0.02323197 0.05562557\n",
            " 0.04054527 0.02603612 0.32197764 0.06531338]\n",
            "\n",
            "[1 4 7 6 0 5 9 3 8 2]\n",
            "\n",
            "[0.01179631 0.02323197 0.02603612 0.04054527 0.05524512 0.05562557\n",
            " 0.06531338 0.06944388 0.32197764 0.33078474]\n",
            "\n",
            "['sex' 's1' 's4' 's3' 'age' 's2' 's6' 'bp' 's5' 'bmi']\n",
            "[0.01050644 0.00206161 0.25381657 0.07373485 0.00690226 0.02371677\n",
            " 0.0032574  0.00154032 0.37654401 0.00279746]\n",
            "\n",
            "[7 1 9 6 4 0 5 3 2 8]\n",
            "\n",
            "[[ 2.09152151e-02 -6.70648194e-02  2.15880188e-02  2.46121642e-02\n",
            "  -2.46627536e-02 -7.55009832e-03  3.34612870e-02  6.71923359e-02\n",
            "   2.10158942e-02  1.55571619e-02]\n",
            " [-1.65323641e-03  1.52422907e-02  8.67173148e-04 -5.11556626e-03\n",
            "  -2.17384508e-03  6.34158647e-03  5.52723827e-03  4.51052514e-03\n",
            "  -2.87575101e-03 -5.43571753e-05]\n",
            " [ 2.51501474e-01  2.15610980e-01  3.81101523e-01  1.65747183e-01\n",
            "   3.46480516e-01  2.84375753e-01  2.02852393e-01  2.46562441e-01\n",
            "   1.55016724e-01  2.88916689e-01]\n",
            " [ 1.59794747e-02  1.37422384e-01  1.21941017e-01  1.32735404e-01\n",
            "   1.86731860e-02  7.48364265e-02  3.33921520e-02  6.22169041e-02\n",
            "   5.16201190e-02  8.85314721e-02]\n",
            " [-1.15738625e-02  7.81413686e-03  6.71822180e-04  1.81487180e-03\n",
            "   1.00536041e-02  6.92116604e-03  3.79491130e-04  1.42417028e-02\n",
            "   2.03845506e-02  1.83151076e-02]\n",
            " [-7.85207729e-03  6.79887915e-03  5.01834153e-02  3.83356576e-02\n",
            "   5.27298903e-02  4.40120034e-02 -3.64553032e-02  5.62700583e-02\n",
            "   5.02446869e-03  2.81207009e-02]\n",
            " [-1.21710001e-02 -1.49013809e-02  8.00287135e-04 -5.82173813e-02\n",
            "   4.69042872e-02  3.72133704e-02  1.14159803e-02  4.00730197e-03\n",
            "   1.23475519e-02  5.17498535e-03]\n",
            " [ 1.23800232e-02 -7.30700939e-03  1.49885234e-02  1.74708122e-02\n",
            "  -4.35980116e-03 -6.78177771e-03 -1.33524303e-03 -7.78224006e-04\n",
            "   3.78299686e-03 -1.26570983e-02]\n",
            " [ 2.42053593e-01  3.71934342e-01  3.68857825e-01  3.85846650e-01\n",
            "   4.74285889e-01  4.21969761e-01  2.52347012e-01  2.65659943e-01\n",
            "   4.57083528e-01  5.25401559e-01]\n",
            " [-7.00779156e-03  1.31181579e-02  2.55029785e-02  8.62342793e-03\n",
            "  -1.04772297e-03  2.09633862e-02 -1.53165255e-02 -2.08696664e-02\n",
            "  -1.07873322e-02  1.47956786e-02]]\n"
          ],
          "name": "stdout"
        },
        {
          "output_type": "display_data",
          "data": {
            "image/png": "[encoded data removed]",
            "text/plain": [
              "<Figure size 864x432 with 2 Axes>"
            ]
          },
          "metadata": {
            "tags": [],
            "needs_background": "light"
          }
        }
      ]
    },
    {
      "cell_type": "code",
      "metadata": {
        "id": "k72xV1EdNEDL",
        "colab_type": "code",
        "colab": {
          "base_uri": "https://localhost:8080/",
          "height": 54
        },
        "outputId": "fcf66aa8-69b8-4223-df81-3c4817c04aff"
      },
      "source": [
        "print(fea_imp)"
      ],
      "execution_count": 13,
      "outputs": [
        {
          "output_type": "stream",
          "text": [
            "[0.05524512 0.01179631 0.33078474 0.06944388 0.02323197 0.05562557\n",
            " 0.04054527 0.02603612 0.32197764 0.06531338]\n"
          ],
          "name": "stdout"
        }
      ]
    },
    {
      "cell_type": "code",
      "metadata": {
        "id": "S-qJJL006-gT",
        "colab_type": "code",
        "colab": {
          "base_uri": "https://localhost:8080/",
          "height": 90
        },
        "outputId": "8066806e-c7e2-4143-cb6b-b81ce12f21b9"
      },
      "source": [
        "fea_imp= gbr.feature_importances_\n",
        "sort_idx= np.argsort(fea_imp)\n",
        "print(fea_imp)\n",
        "print()\n",
        "print(sort_idx)"
      ],
      "execution_count": 14,
      "outputs": [
        {
          "output_type": "stream",
          "text": [
            "[0.05524512 0.01179631 0.33078474 0.06944388 0.02323197 0.05562557\n",
            " 0.04054527 0.02603612 0.32197764 0.06531338]\n",
            "\n",
            "[1 4 7 6 0 5 9 3 8 2]\n"
          ],
          "name": "stdout"
        }
      ]
    },
    {
      "cell_type": "code",
      "metadata": {
        "id": "4RR15Ayc7nTq",
        "colab_type": "code",
        "colab": {
          "base_uri": "https://localhost:8080/",
          "height": 35
        },
        "outputId": "c4cc4d80-c935-48b8-950e-0cfb297d1160"
      },
      "source": [
        "sort_idx.shape[0]"
      ],
      "execution_count": 15,
      "outputs": [
        {
          "output_type": "execute_result",
          "data": {
            "text/plain": [
              "10"
            ]
          },
          "metadata": {
            "tags": []
          },
          "execution_count": 15
        }
      ]
    },
    {
      "cell_type": "code",
      "metadata": {
        "id": "sBBX-FLJ9bRf",
        "colab_type": "code",
        "colab": {
          "base_uri": "https://localhost:8080/",
          "height": 35
        },
        "outputId": "a8b25bc9-9fb9-4084-8ed3-7b0c386b31dc"
      },
      "source": [
        "print(pos)"
      ],
      "execution_count": 16,
      "outputs": [
        {
          "output_type": "stream",
          "text": [
            "[0.5 1.5 2.5 3.5 4.5 5.5 6.5 7.5 8.5 9.5]\n"
          ],
          "name": "stdout"
        }
      ]
    },
    {
      "cell_type": "code",
      "metadata": {
        "id": "blOB7Pl_9jeR",
        "colab_type": "code",
        "colab": {
          "base_uri": "https://localhost:8080/",
          "height": 54
        },
        "outputId": "f057d1f6-3f01-4550-b6fd-a96ee941d81b"
      },
      "source": [
        "print(fea_imp[sort_idx])"
      ],
      "execution_count": 17,
      "outputs": [
        {
          "output_type": "stream",
          "text": [
            "[0.01179631 0.02323197 0.02603612 0.04054527 0.05524512 0.05562557\n",
            " 0.06531338 0.06944388 0.32197764 0.33078474]\n"
          ],
          "name": "stdout"
        }
      ]
    },
    {
      "cell_type": "code",
      "metadata": {
        "id": "okrq1Tu5_S7a",
        "colab_type": "code",
        "colab": {
          "base_uri": "https://localhost:8080/",
          "height": 35
        },
        "outputId": "b3def373-b8bf-4f43-f62a-9049a8f31134"
      },
      "source": [
        "print(sort_idx)"
      ],
      "execution_count": 18,
      "outputs": [
        {
          "output_type": "stream",
          "text": [
            "[1 4 7 6 0 5 9 3 8 2]\n"
          ],
          "name": "stdout"
        }
      ]
    },
    {
      "cell_type": "code",
      "metadata": {
        "id": "bwznuHtX_dhp",
        "colab_type": "code",
        "colab": {}
      },
      "source": [
        ""
      ],
      "execution_count": 18,
      "outputs": []
    }
  ]
}