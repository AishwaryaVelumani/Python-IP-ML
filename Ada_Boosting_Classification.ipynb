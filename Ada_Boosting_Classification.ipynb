{
  "nbformat": 4,
  "nbformat_minor": 0,
  "metadata": {
    "colab": {
      "name": "Ada Boosting Classification",
      "provenance": [],
      "collapsed_sections": [],
      "authorship_tag": "ABX9TyPbBhEYr8cVK/uZOJbbgfxW",
      "include_colab_link": true
    },
    "kernelspec": {
      "name": "python3",
      "display_name": "Python 3"
    }
  },
  "cells": [
    {
      "cell_type": "markdown",
      "metadata": {
        "id": "view-in-github",
        "colab_type": "text"
      },
      "source": [
        "<a href=\"https://colab.research.google.com/github/AishwaryaVelumani/Python-IP-ML/blob/master/Ada_Boosting_Classification.ipynb\" target=\"_parent\"><img src=\"https://colab.research.google.com/assets/colab-badge.svg\" alt=\"Open In Colab\"/></a>"
      ]
    },
    {
      "cell_type": "code",
      "metadata": {
        "id": "-L-uCXIFueSC",
        "colab_type": "code",
        "colab": {}
      },
      "source": [
        "from sklearn.ensemble import AdaBoostClassifier\n",
        "from sklearn import datasets\n",
        "from sklearn.model_selection import train_test_split\n",
        "from sklearn import metrics"
      ],
      "execution_count": 2,
      "outputs": []
    },
    {
      "cell_type": "code",
      "metadata": {
        "id": "efZnIEWBrYEF",
        "colab_type": "code",
        "colab": {}
      },
      "source": [
        "iri= datasets.load_iris()"
      ],
      "execution_count": 3,
      "outputs": []
    },
    {
      "cell_type": "code",
      "metadata": {
        "id": "MIcvV0zBs2PE",
        "colab_type": "code",
        "colab": {}
      },
      "source": [
        "x=iri.data\n",
        "y=iri.target"
      ],
      "execution_count": 4,
      "outputs": []
    },
    {
      "cell_type": "code",
      "metadata": {
        "id": "CN0ttzVns7hN",
        "colab_type": "code",
        "colab": {}
      },
      "source": [
        "xtr,xte,ytr,yte= train_test_split(x,y,test_size=0.3,random_state=0)"
      ],
      "execution_count": 5,
      "outputs": []
    },
    {
      "cell_type": "code",
      "metadata": {
        "id": "WNUi7NDPtL1L",
        "colab_type": "code",
        "colab": {
          "base_uri": "https://localhost:8080/",
          "height": 54
        },
        "outputId": "e2605cf5-80b5-4ef3-9b4d-cf4a9b29caa3"
      },
      "source": [
        "abc= AdaBoostClassifier(n_estimators=100,learning_rate=1)\n",
        "abc.fit(xtr,ytr)\n",
        "#default algo is SAMME.R"
      ],
      "execution_count": 6,
      "outputs": [
        {
          "output_type": "execute_result",
          "data": {
            "text/plain": [
              "AdaBoostClassifier(algorithm='SAMME.R', base_estimator=None, learning_rate=1,\n",
              "                   n_estimators=100, random_state=None)"
            ]
          },
          "metadata": {
            "tags": []
          },
          "execution_count": 6
        }
      ]
    },
    {
      "cell_type": "code",
      "metadata": {
        "id": "RWaQbI4Ctk2L",
        "colab_type": "code",
        "colab": {}
      },
      "source": [
        "ypr=abc.predict(xte)"
      ],
      "execution_count": 7,
      "outputs": []
    },
    {
      "cell_type": "code",
      "metadata": {
        "id": "yB-RWyL3tw78",
        "colab_type": "code",
        "colab": {
          "base_uri": "https://localhost:8080/",
          "height": 35
        },
        "outputId": "c799c23d-254c-45fb-d1fc-5cdb9bb3e156"
      },
      "source": [
        "print('Accuracy: {:0.3f}'.format(100*metrics.accuracy_score(ypr,yte)),'%')"
      ],
      "execution_count": 8,
      "outputs": [
        {
          "output_type": "stream",
          "text": [
            "Accuracy: 91.111 %\n"
          ],
          "name": "stdout"
        }
      ]
    },
    {
      "cell_type": "markdown",
      "metadata": {
        "id": "2bcXb_izvn6a",
        "colab_type": "text"
      },
      "source": [
        "# SAMME vs SAMME.R Algorithm"
      ]
    },
    {
      "cell_type": "code",
      "metadata": {
        "id": "0XVLg3bHusIx",
        "colab_type": "code",
        "colab": {}
      },
      "source": [
        "import matplotlib.pyplot as plt\n",
        "from sklearn.datasets import make_gaussian_quantiles\n",
        "from sklearn.ensemble import AdaBoostClassifier\n",
        "from sklearn.metrics import accuracy_score\n",
        "from sklearn.tree import DecisionTreeClassifier"
      ],
      "execution_count": 9,
      "outputs": []
    },
    {
      "cell_type": "code",
      "metadata": {
        "id": "esyYSDPF652u",
        "colab_type": "code",
        "colab": {}
      },
      "source": [
        "x,y= make_gaussian_quantiles(n_samples=13000,n_features=10,n_classes=3,random_state=1)"
      ],
      "execution_count": 10,
      "outputs": []
    },
    {
      "cell_type": "code",
      "metadata": {
        "id": "a3b34Zw_Lbls",
        "colab_type": "code",
        "colab": {}
      },
      "source": [
        "n_split=3000\n",
        "xtr,xte= x[:n_split],x[n_split:]\n",
        "ytr,yte= y[:n_split],y[n_split:]"
      ],
      "execution_count": 11,
      "outputs": []
    },
    {
      "cell_type": "code",
      "metadata": {
        "id": "8lZcf_EDLgTn",
        "colab_type": "code",
        "colab": {}
      },
      "source": [
        "bdt_real= AdaBoostClassifier(DecisionTreeClassifier(max_depth=2), n_estimators=600, learning_rate=1)\n",
        "bdt_discrete= AdaBoostClassifier(DecisionTreeClassifier(max_depth=2),n_estimators=600,learning_rate=1,algorithm='SAMME')"
      ],
      "execution_count": 12,
      "outputs": []
    },
    {
      "cell_type": "code",
      "metadata": {
        "id": "92wX9TqNd9C8",
        "colab_type": "code",
        "colab": {}
      },
      "source": [
        "bdt_real.fit(xtr,ytr)\n",
        "bdt_discrete.fit(xtr,ytr)\n",
        "real_test_errors=[]\n",
        "discrete_test_errors=[]"
      ],
      "execution_count": 13,
      "outputs": []
    },
    {
      "cell_type": "code",
      "metadata": {
        "id": "ucDjkVDNueZa",
        "colab_type": "code",
        "colab": {}
      },
      "source": [
        "for real_test_predict, discrete_train_predict in zip(bdt_real.staged_predict(xte),bdt_discrete.staged_predict(xte)):\n",
        "    real_test_errors.append(1.-accuracy_score(real_test_predict,yte))\n",
        "    discrete_test_errors.append(1.-accuracy_score(discrete_train_predict,yte))\n",
        "    "
      ],
      "execution_count": 22,
      "outputs": []
    },
    {
      "cell_type": "code",
      "metadata": {
        "id": "m0J2iUWVRr5I",
        "colab_type": "code",
        "colab": {
          "base_uri": "https://localhost:8080/",
          "height": 55
        },
        "outputId": "854541f3-47c3-458e-ec4d-03cf4ac7ec6d"
      },
      "source": [
        "print(real_test_errors)"
      ],
      "execution_count": 23,
      "outputs": [
        {
          "output_type": "stream",
          "text": [
            "[0.601, 0.5581, 0.516, 0.48819999999999997, 0.45630000000000004, 0.4266, 0.4104, 0.39070000000000005, 0.3681, 0.36119999999999997, 0.35860000000000003, 0.34530000000000005, 0.3346, 0.3265, 0.31520000000000004, 0.3087, 0.3055, 0.2996, 0.29500000000000004, 0.29469999999999996, 0.29600000000000004, 0.2935, 0.29400000000000004, 0.2921, 0.29190000000000005, 0.28369999999999995, 0.28290000000000004, 0.2821, 0.28069999999999995, 0.271, 0.2724, 0.26959999999999995, 0.2702, 0.2721, 0.27259999999999995, 0.2732, 0.27349999999999997, 0.2703, 0.27470000000000006, 0.26970000000000005, 0.26849999999999996, 0.26949999999999996, 0.2722, 0.27190000000000003, 0.2671, 0.26670000000000005, 0.26770000000000005, 0.2704, 0.26890000000000003, 0.27159999999999995, 0.2693, 0.26959999999999995, 0.27090000000000003, 0.26890000000000003, 0.27359999999999995, 0.27159999999999995, 0.2711, 0.26970000000000005, 0.26890000000000003, 0.26980000000000004, 0.27259999999999995, 0.26980000000000004, 0.26970000000000005, 0.2671, 0.26749999999999996, 0.26890000000000003, 0.268, 0.269, 0.26739999999999997, 0.2671, 0.26959999999999995, 0.27090000000000003, 0.2714, 0.27349999999999997, 0.2711, 0.2751, 0.27370000000000005, 0.2731, 0.27480000000000004, 0.27890000000000004, 0.2771, 0.2781, 0.2773, 0.28, 0.277, 0.27690000000000003, 0.27949999999999997, 0.2784, 0.27790000000000004, 0.27790000000000004, 0.27849999999999997, 0.28069999999999995, 0.27980000000000005, 0.2784, 0.27749999999999997, 0.27569999999999995, 0.27549999999999997, 0.27749999999999997, 0.2774, 0.27669999999999995, 0.27580000000000005, 0.275, 0.27690000000000003, 0.278, 0.2771, 0.27270000000000005, 0.27059999999999995, 0.2693, 0.268, 0.26870000000000005, 0.2701, 0.26949999999999996, 0.2702, 0.27, 0.2691, 0.26959999999999995, 0.26759999999999995, 0.26549999999999996, 0.2663, 0.2673, 0.26749999999999996, 0.26670000000000005, 0.26349999999999996, 0.2621, 0.2611, 0.26180000000000003, 0.2613, 0.26039999999999996, 0.2611, 0.26180000000000003, 0.26449999999999996, 0.26459999999999995, 0.26349999999999996, 0.267, 0.26649999999999996, 0.2661, 0.26649999999999996, 0.26649999999999996, 0.26880000000000004, 0.269, 0.26859999999999995, 0.26749999999999996, 0.2683, 0.26849999999999996, 0.26949999999999996, 0.269, 0.264, 0.262, 0.262, 0.2629, 0.26449999999999996, 0.2639, 0.26160000000000005, 0.2641, 0.26449999999999996, 0.2632, 0.26439999999999997, 0.26380000000000003, 0.26449999999999996, 0.2653, 0.26539999999999997, 0.26180000000000003, 0.26180000000000003, 0.26149999999999995, 0.2611, 0.26160000000000005, 0.2641, 0.26339999999999997, 0.26380000000000003, 0.2633, 0.26149999999999995, 0.2622, 0.26049999999999995, 0.2612, 0.262, 0.25960000000000005, 0.261, 0.2609, 0.26139999999999997, 0.26259999999999994, 0.2621, 0.2611, 0.26149999999999995, 0.26349999999999996, 0.2639, 0.2653, 0.26359999999999995, 0.26359999999999995, 0.2632, 0.26359999999999995, 0.26139999999999997, 0.26080000000000003, 0.2609, 0.2599, 0.2609, 0.25870000000000004, 0.25949999999999995, 0.26080000000000003, 0.2592, 0.25970000000000004, 0.2601, 0.26049999999999995, 0.26070000000000004, 0.2622, 0.2631, 0.26280000000000003, 0.2642, 0.2613, 0.26149999999999995, 0.25949999999999995, 0.2583, 0.2599, 0.2602, 0.2623, 0.26239999999999997, 0.2633, 0.26349999999999996, 0.26370000000000005, 0.265, 0.26449999999999996, 0.26570000000000005, 0.26459999999999995, 0.26270000000000004, 0.26480000000000004, 0.2632, 0.2631, 0.2633, 0.2629, 0.2643, 0.2633, 0.26280000000000003, 0.2649, 0.26349999999999996, 0.2652, 0.26239999999999997, 0.2623, 0.26180000000000003, 0.2621, 0.2621, 0.26170000000000004, 0.26070000000000004, 0.2622, 0.26170000000000004, 0.2643, 0.2642, 0.26359999999999995, 0.26359999999999995, 0.2632, 0.258, 0.25649999999999995, 0.25539999999999996, 0.2548, 0.2528, 0.2521, 0.25239999999999996, 0.25370000000000004, 0.253, 0.25239999999999996, 0.25429999999999997, 0.2541, 0.2541, 0.25349999999999995, 0.25560000000000005, 0.2561, 0.2571, 0.25660000000000005, 0.25470000000000004, 0.252, 0.25239999999999996, 0.25260000000000005, 0.2541, 0.253, 0.2522, 0.25370000000000004, 0.25160000000000005, 0.253, 0.25370000000000004, 0.253, 0.25270000000000004, 0.25260000000000005, 0.2529, 0.25249999999999995, 0.25349999999999995, 0.2532, 0.25049999999999994, 0.24980000000000002, 0.24970000000000003, 0.24970000000000003, 0.2499, 0.25070000000000003, 0.25029999999999997, 0.2521, 0.2519, 0.25049999999999994, 0.25049999999999994, 0.24970000000000003, 0.24950000000000006, 0.24919999999999998, 0.24980000000000002, 0.248, 0.25, 0.24919999999999998, 0.2501, 0.2499, 0.2508, 0.24950000000000006, 0.24970000000000003, 0.2499, 0.25, 0.25029999999999997, 0.25049999999999994, 0.25070000000000003, 0.251, 0.25160000000000005, 0.24980000000000002, 0.24980000000000002, 0.25229999999999997, 0.2519, 0.25139999999999996, 0.25, 0.25049999999999994, 0.25160000000000005, 0.25060000000000004, 0.25170000000000003, 0.25060000000000004, 0.2511, 0.24880000000000002, 0.249, 0.24960000000000004, 0.2491, 0.2491, 0.24960000000000004, 0.24960000000000004, 0.24860000000000004, 0.24860000000000004, 0.24850000000000005, 0.24870000000000003, 0.2499, 0.24829999999999997, 0.24929999999999997, 0.24919999999999998, 0.2501, 0.24929999999999997, 0.24939999999999996, 0.24950000000000006, 0.2499, 0.25060000000000004, 0.25029999999999997, 0.2509, 0.251, 0.2501, 0.2512, 0.2511, 0.25039999999999996, 0.25049999999999994, 0.2508, 0.2508, 0.2529, 0.2522, 0.25139999999999996, 0.25139999999999996, 0.25149999999999995, 0.251, 0.2502, 0.2512, 0.2509, 0.25039999999999996, 0.2509, 0.2519, 0.25249999999999995, 0.2522, 0.2529, 0.2521, 0.2509, 0.2508, 0.251, 0.2511, 0.251, 0.2521, 0.25249999999999995, 0.25039999999999996, 0.25049999999999994, 0.25160000000000005, 0.2518, 0.25170000000000003, 0.24970000000000003, 0.2501, 0.25160000000000005, 0.2509, 0.24939999999999996, 0.24850000000000005, 0.2481, 0.2491, 0.24609999999999999, 0.2479, 0.247, 0.24770000000000003, 0.24680000000000002, 0.247, 0.24780000000000002, 0.249, 0.24919999999999998, 0.24929999999999997, 0.2499, 0.25070000000000003, 0.25060000000000004, 0.25029999999999997, 0.2499, 0.2499, 0.25070000000000003, 0.25070000000000003, 0.2508, 0.251, 0.25149999999999995, 0.2518, 0.25149999999999995, 0.25170000000000003, 0.25149999999999995, 0.249, 0.24880000000000002, 0.24960000000000004, 0.24980000000000002, 0.24829999999999997, 0.24839999999999995, 0.24850000000000005, 0.24970000000000003, 0.2491, 0.24819999999999998, 0.24929999999999997, 0.24960000000000004, 0.25060000000000004, 0.2501, 0.24939999999999996, 0.2502, 0.2501, 0.24970000000000003, 0.2502, 0.2479, 0.24750000000000005, 0.24660000000000004, 0.24760000000000004, 0.24829999999999997, 0.2479, 0.24829999999999997, 0.248, 0.2481, 0.24670000000000003, 0.24739999999999995, 0.24839999999999995, 0.25, 0.25049999999999994, 0.25160000000000005, 0.25060000000000004, 0.2511, 0.25060000000000004, 0.2501, 0.24839999999999995, 0.248, 0.24760000000000004, 0.24680000000000002, 0.24780000000000002, 0.24780000000000002, 0.24750000000000005, 0.2479, 0.24829999999999997, 0.24829999999999997, 0.24750000000000005, 0.2471, 0.24750000000000005, 0.2469, 0.24829999999999997, 0.2481, 0.24850000000000005, 0.24819999999999998, 0.24860000000000004, 0.24880000000000002, 0.24950000000000006, 0.24880000000000002, 0.25029999999999997, 0.2508, 0.25060000000000004, 0.251, 0.25129999999999997, 0.2508, 0.2509, 0.251, 0.2518, 0.2518, 0.25249999999999995, 0.2522, 0.25070000000000003, 0.2511, 0.251, 0.25149999999999995, 0.252, 0.252, 0.25260000000000005, 0.2528, 0.25349999999999995, 0.25360000000000005, 0.2538, 0.254, 0.25370000000000004, 0.25329999999999997, 0.25329999999999997, 0.25360000000000005, 0.25370000000000004, 0.2529, 0.25349999999999995, 0.25429999999999997, 0.25439999999999996, 0.2541, 0.25360000000000005, 0.2529, 0.2521, 0.25139999999999996, 0.2508, 0.2508, 0.2499, 0.24950000000000006, 0.24950000000000006, 0.25070000000000003, 0.25070000000000003, 0.25070000000000003, 0.24929999999999997, 0.24960000000000004, 0.24929999999999997, 0.24929999999999997, 0.2491, 0.24960000000000004, 0.24839999999999995, 0.24770000000000003, 0.24739999999999995, 0.2491, 0.2481, 0.24960000000000004, 0.249, 0.24919999999999998, 0.24950000000000006, 0.2489, 0.24860000000000004, 0.24850000000000005, 0.24880000000000002, 0.2491, 0.24919999999999998, 0.2491, 0.24719999999999998, 0.2471, 0.24650000000000005, 0.24729999999999996, 0.24719999999999998, 0.24729999999999996, 0.246, 0.24629999999999996, 0.24680000000000002, 0.24619999999999997, 0.24729999999999996, 0.24629999999999996, 0.24619999999999997, 0.2469, 0.248, 0.24719999999999998, 0.24719999999999998, 0.24770000000000003, 0.24780000000000002, 0.24619999999999997, 0.246, 0.24619999999999997, 0.24629999999999996, 0.2459, 0.24609999999999999, 0.246, 0.24509999999999998, 0.24570000000000003, 0.24529999999999996, 0.24519999999999997, 0.2471, 0.24739999999999995, 0.24639999999999995, 0.24609999999999999, 0.24660000000000004, 0.24680000000000002, 0.24919999999999998, 0.24739999999999995, 0.247, 0.24750000000000005, 0.2479, 0.24780000000000002, 0.24819999999999998, 0.24870000000000003, 0.24819999999999998, 0.2491, 0.2491, 0.24939999999999996, 0.24839999999999995, 0.24839999999999995, 0.249, 0.24980000000000002, 0.2491, 0.24919999999999998, 0.399, 0.4419, 0.484, 0.5118, 0.5437, 0.5734, 0.5896, 0.6093, 0.6319, 0.6388, 0.6414, 0.6547, 0.6654, 0.6735, 0.6848, 0.6913, 0.6945, 0.7004, 0.705, 0.7053, 0.704, 0.7065, 0.706, 0.7079, 0.7081, 0.7163, 0.7171, 0.7179, 0.7193, 0.729, 0.7276, 0.7304, 0.7298, 0.7279, 0.7274, 0.7268, 0.7265, 0.7297, 0.7253, 0.7303, 0.7315, 0.7305, 0.7278, 0.7281, 0.7329, 0.7333, 0.7323, 0.7296, 0.7311, 0.7284, 0.7307, 0.7304, 0.7291, 0.7311, 0.7264, 0.7284, 0.7289, 0.7303, 0.7311, 0.7302, 0.7274, 0.7302, 0.7303, 0.7329, 0.7325, 0.7311, 0.732, 0.731, 0.7326, 0.7329, 0.7304, 0.7291, 0.7286, 0.7265, 0.7289, 0.7249, 0.7263, 0.7269, 0.7252, 0.7211, 0.7229, 0.7219, 0.7227, 0.72, 0.723, 0.7231, 0.7205, 0.7216, 0.7221, 0.7221, 0.7215, 0.7193, 0.7202, 0.7216, 0.7225, 0.7243, 0.7245, 0.7225, 0.7226, 0.7233, 0.7242, 0.725, 0.7231, 0.722, 0.7229, 0.7273, 0.7294, 0.7307, 0.732, 0.7313, 0.7299, 0.7305, 0.7298, 0.73, 0.7309, 0.7304, 0.7324, 0.7345, 0.7337, 0.7327, 0.7325, 0.7333, 0.7365, 0.7379, 0.7389, 0.7382, 0.7387, 0.7396, 0.7389, 0.7382, 0.7355, 0.7354, 0.7365, 0.733, 0.7335, 0.7339, 0.7335, 0.7335, 0.7312, 0.731, 0.7314, 0.7325, 0.7317, 0.7315, 0.7305, 0.731, 0.736, 0.738, 0.738, 0.7371, 0.7355, 0.7361, 0.7384, 0.7359, 0.7355, 0.7368, 0.7356, 0.7362, 0.7355, 0.7347, 0.7346, 0.7382, 0.7382, 0.7385, 0.7389, 0.7384, 0.7359, 0.7366, 0.7362, 0.7367, 0.7385, 0.7378, 0.7395, 0.7388, 0.738, 0.7404, 0.739, 0.7391, 0.7386, 0.7374, 0.7379, 0.7389, 0.7385, 0.7365, 0.7361, 0.7347, 0.7364, 0.7364, 0.7368, 0.7364, 0.7386, 0.7392, 0.7391, 0.7401, 0.7391, 0.7413, 0.7405, 0.7392, 0.7408, 0.7403, 0.7399, 0.7395, 0.7393, 0.7378, 0.7369, 0.7372, 0.7358, 0.7387, 0.7385, 0.7405, 0.7417, 0.7401, 0.7398, 0.7377, 0.7376, 0.7367, 0.7365, 0.7363, 0.735, 0.7355, 0.7343, 0.7354, 0.7373, 0.7352, 0.7368, 0.7369, 0.7367, 0.7371, 0.7357, 0.7367, 0.7372, 0.7351, 0.7365, 0.7348, 0.7376, 0.7377, 0.7382, 0.7379, 0.7379, 0.7383, 0.7393, 0.7378, 0.7383, 0.7357, 0.7358, 0.7364, 0.7364, 0.7368, 0.742, 0.7435, 0.7446, 0.7452, 0.7472, 0.7479, 0.7476, 0.7463, 0.747, 0.7476, 0.7457, 0.7459, 0.7459, 0.7465, 0.7444, 0.7439, 0.7429, 0.7434, 0.7453, 0.748, 0.7476, 0.7474, 0.7459, 0.747, 0.7478, 0.7463, 0.7484, 0.747, 0.7463, 0.747, 0.7473, 0.7474, 0.7471, 0.7475, 0.7465, 0.7468, 0.7495, 0.7502, 0.7503, 0.7503, 0.7501, 0.7493, 0.7497, 0.7479, 0.7481, 0.7495, 0.7495, 0.7503, 0.7505, 0.7508, 0.7502, 0.752, 0.75, 0.7508, 0.7499, 0.7501, 0.7492, 0.7505, 0.7503, 0.7501, 0.75, 0.7497, 0.7495, 0.7493, 0.749, 0.7484, 0.7502, 0.7502, 0.7477, 0.7481, 0.7486, 0.75, 0.7495, 0.7484, 0.7494, 0.7483, 0.7494, 0.7489, 0.7512, 0.751, 0.7504, 0.7509, 0.7509, 0.7504, 0.7504, 0.7514, 0.7514, 0.7515, 0.7513, 0.7501, 0.7517, 0.7507, 0.7508, 0.7499, 0.7507, 0.7506, 0.7505, 0.7501, 0.7494, 0.7497, 0.7491, 0.749, 0.7499, 0.7488, 0.7489, 0.7496, 0.7495, 0.7492, 0.7492, 0.7471, 0.7478, 0.7486, 0.7486, 0.7485, 0.749, 0.7498, 0.7488, 0.7491, 0.7496, 0.7491, 0.7481, 0.7475, 0.7478, 0.7471, 0.7479, 0.7491, 0.7492, 0.749, 0.7489, 0.749, 0.7479, 0.7475, 0.7496, 0.7495, 0.7484, 0.7482, 0.7483, 0.7503, 0.7499, 0.7484, 0.7491, 0.7506, 0.7515, 0.7519, 0.7509, 0.7539, 0.7521, 0.753, 0.7523, 0.7532, 0.753, 0.7522, 0.751, 0.7508, 0.7507, 0.7501, 0.7493, 0.7494, 0.7497, 0.7501, 0.7501, 0.7493, 0.7493, 0.7492, 0.749, 0.7485, 0.7482, 0.7485, 0.7483, 0.7485, 0.751, 0.7512, 0.7504, 0.7502, 0.7517, 0.7516, 0.7515, 0.7503, 0.7509, 0.7518, 0.7507, 0.7504, 0.7494, 0.7499, 0.7506, 0.7498, 0.7499, 0.7503, 0.7498, 0.7521, 0.7525, 0.7534, 0.7524, 0.7517, 0.7521, 0.7517, 0.752, 0.7519, 0.7533, 0.7526, 0.7516, 0.75, 0.7495, 0.7484, 0.7494, 0.7489, 0.7494, 0.7499, 0.7516, 0.752, 0.7524, 0.7532, 0.7522, 0.7522, 0.7525, 0.7521, 0.7517, 0.7517, 0.7525, 0.7529, 0.7525, 0.7531, 0.7517, 0.7519, 0.7515, 0.7518, 0.7514, 0.7512, 0.7505, 0.7512, 0.7497, 0.7492, 0.7494, 0.749, 0.7487, 0.7492, 0.7491, 0.749, 0.7482, 0.7482, 0.7475, 0.7478, 0.7493, 0.7489, 0.749, 0.7485, 0.748, 0.748, 0.7474, 0.7472, 0.7465, 0.7464, 0.7462, 0.746, 0.7463, 0.7467, 0.7467, 0.7464, 0.7463, 0.7471, 0.7465, 0.7457, 0.7456, 0.7459, 0.7464, 0.7471, 0.7479, 0.7486, 0.7492, 0.7492, 0.7501, 0.7505, 0.7505, 0.7493, 0.7493, 0.7493, 0.7507, 0.7504, 0.7507, 0.7507, 0.7509, 0.7504, 0.7516, 0.7523, 0.7526, 0.7509, 0.7519, 0.7504, 0.751, 0.7508, 0.7505, 0.7511, 0.7514, 0.7515, 0.7512, 0.7509, 0.7508, 0.7509, 0.7528, 0.7529, 0.7535, 0.7527, 0.7528, 0.7527, 0.754, 0.7537, 0.7532, 0.7538, 0.7527, 0.7537, 0.7538, 0.7531, 0.752, 0.7528, 0.7528, 0.7523, 0.7522, 0.7538, 0.754, 0.7538, 0.7537, 0.7541, 0.7539, 0.754, 0.7549, 0.7543, 0.7547, 0.7548, 0.7529, 0.7526, 0.7536, 0.7539, 0.7534, 0.7532, 0.7508, 0.7526, 0.753, 0.7525, 0.7521, 0.7522, 0.7518, 0.7513, 0.7518, 0.7509, 0.7509, 0.7506, 0.7516, 0.7516, 0.751, 0.7502, 0.7509, 0.7508]\n"
          ],
          "name": "stdout"
        }
      ]
    },
    {
      "cell_type": "code",
      "metadata": {
        "id": "2nngRUsGRgdk",
        "colab_type": "code",
        "colab": {
          "base_uri": "https://localhost:8080/",
          "height": 54
        },
        "outputId": "a9a94602-66ec-4bf4-f268-f4f57f3d282a"
      },
      "source": [
        "n_trees_discrete= len(bdt_discrete)\n",
        "n_trees_real= len(bdt_real)\n",
        "print(n_trees_discrete)\n",
        "print(type(n_trees_discrete))"
      ],
      "execution_count": 16,
      "outputs": [
        {
          "output_type": "stream",
          "text": [
            "600\n",
            "<class 'int'>\n"
          ],
          "name": "stdout"
        }
      ]
    },
    {
      "cell_type": "code",
      "metadata": {
        "id": "amilDINiR0el",
        "colab_type": "code",
        "colab": {}
      },
      "source": [
        "discrete_estimator_errors= bdt_discrete.estimator_errors_[:n_trees_discrete]\n",
        "real_estimator_errors= bdt_real.estimator_errors_[:n_trees_real]\n",
        "discrete_estimator_weights= bdt_discrete.estimator_weights_[:n_trees_discrete]\n",
        "real_estimator_weights= bdt_real.estimator_weights_[:n_trees_real]"
      ],
      "execution_count": 17,
      "outputs": []
    },
    {
      "cell_type": "code",
      "metadata": {
        "id": "dJAcnjvTThfj",
        "colab_type": "code",
        "colab": {
          "base_uri": "https://localhost:8080/",
          "height": 35
        },
        "outputId": "04696793-917a-4b71-923d-53619f4af45d"
      },
      "source": [
        "print(discrete_estimator_errors.shape)"
      ],
      "execution_count": 18,
      "outputs": [
        {
          "output_type": "stream",
          "text": [
            "(600,)\n"
          ],
          "name": "stdout"
        }
      ]
    },
    {
      "cell_type": "code",
      "metadata": {
        "id": "0T6zVKXST-YM",
        "colab_type": "code",
        "colab": {
          "base_uri": "https://localhost:8080/",
          "height": 35
        },
        "outputId": "8a989b15-4d44-4e94-b979-024db2658cde"
      },
      "source": [
        "print(discrete_estimator_weights.shape)"
      ],
      "execution_count": 19,
      "outputs": [
        {
          "output_type": "stream",
          "text": [
            "(600,)\n"
          ],
          "name": "stdout"
        }
      ]
    },
    {
      "cell_type": "markdown",
      "metadata": {
        "id": "747xa9hoULAW",
        "colab_type": "text"
      },
      "source": [
        "**Visualisation**"
      ]
    },
    {
      "cell_type": "code",
      "metadata": {
        "id": "MACxkxgoUGTX",
        "colab_type": "code",
        "colab": {}
      },
      "source": [
        "#fig= plt.gcf()\n",
        "#fig.set_size_inches(50.0,50.0,forward=True)"
      ],
      "execution_count": 20,
      "outputs": []
    },
    {
      "cell_type": "code",
      "metadata": {
        "id": "6llcymDkUlAv",
        "colab_type": "code",
        "colab": {
          "base_uri": "https://localhost:8080/",
          "height": 352
        },
        "outputId": "4633bc97-47da-4658-96c2-979da4cf2bc3"
      },
      "source": [
        "plt.figure(figsize=(15,5))\n",
        "\n",
        "plt.subplot(131)\n",
        "plt.plot(range(1,n_trees_discrete+1),discrete_test_errors,c='blue',label='SAMME')\n",
        "plt.plot(range(1,n_trees_real+1),real_test_errors,c='red',label='SAMME.R')\n",
        "plt.legend()\n",
        "plt.ylabel('Test Error')\n",
        "plt.xlabel('Number Of Trees')\n",
        "plt.ylim(0.18,0.62)\n",
        "\n",
        "plt.subplot(132)\n",
        "plt.plot(range(1,n_trees_discrete+1),discrete_estimator_errors,c='orange',label='SAMME',alpha=0.5)\n",
        "plt.plot(range(1,n_trees_real+1),real_estimator_errors,c='green',label='SAMME.R',alpha=0.5)\n",
        "plt.xlabel('Number Of Trees')\n",
        "plt.ylabel('Estimator Error')\n",
        "plt.legend()\n",
        "yup=max( real_estimator_errors.max(), discrete_estimator_errors.max()) * 1.2\n",
        "plt.ylim((.2, yup))\n",
        "print(yup)\n",
        "plt.xlim((-20,len(bdt_discrete)+20))\n",
        "\n",
        "plt.subplot(133)\n",
        "plt.plot(range(1,n_trees_discrete+1),discrete_estimator_weights,'brown',label='SAMME')\n",
        "plt.plot(range(1,n_trees_real+1),real_estimator_weights,'black',label='SAMME.R')\n",
        "plt.legend()\n",
        "plt.ylabel('Weight')\n",
        "plt.xlabel('Number Of Trees')\n",
        "#plt.ylim((0,discrete_estimator_weights.max()*1.2))\n",
        "#plt.xlim((-20,n_trees_discrete+20))\n",
        "\n",
        "plt.subplots_adjust(wspace=0.5)\n",
        "#print(real_estimator_weights)"
      ],
      "execution_count": 21,
      "outputs": [
        {
          "output_type": "stream",
          "text": [
            "0.7746583620779753\n"
          ],
          "name": "stdout"
        },
        {
          "output_type": "display_data",
          "data": {
            "image/png": "[encoded data removed]",
            "text/plain": [
              "<Figure size 1080x360 with 3 Axes>"
            ]
          },
          "metadata": {
            "tags": [],
            "needs_background": "light"
          }
        }
      ]
    },
    {
      "cell_type": "code",
      "metadata": {
        "id": "kML4loVib8nF",
        "colab_type": "code",
        "colab": {}
      },
      "source": [
        ""
      ],
      "execution_count": 21,
      "outputs": []
    }
  ]
}